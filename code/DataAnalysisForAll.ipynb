{
 "cells": [
  {
   "cell_type": "code",
   "execution_count": 2,
   "metadata": {},
   "outputs": [],
   "source": [
    "import pandas as pd \n",
    "import seaborn as sns\n",
    "from sklearn.model_selection import train_test_split\n",
    "from sklearn.model_selection import GridSearchCV\n",
    "import numpy as np\n",
    "from sklearn.metrics import roc_auc_score"
   ]
  },
  {
   "cell_type": "markdown",
   "metadata": {},
   "source": [
    "This task is about predicting the probability of lenders getting delima of finance in the next coming two years."
   ]
  },
  {
   "cell_type": "code",
   "execution_count": 3,
   "metadata": {},
   "outputs": [],
   "source": [
    "columns = pd.read_excel('Data Dictionary.xls')"
   ]
  },
  {
   "cell_type": "code",
   "execution_count": 4,
   "metadata": {},
   "outputs": [
    {
     "data": {
      "text/html": [
       "<div>\n",
       "<style scoped>\n",
       "    .dataframe tbody tr th:only-of-type {\n",
       "        vertical-align: middle;\n",
       "    }\n",
       "\n",
       "    .dataframe tbody tr th {\n",
       "        vertical-align: top;\n",
       "    }\n",
       "\n",
       "    .dataframe thead th {\n",
       "        text-align: right;\n",
       "    }\n",
       "</style>\n",
       "<table border=\"1\" class=\"dataframe\">\n",
       "  <thead>\n",
       "    <tr style=\"text-align: right;\">\n",
       "      <th></th>\n",
       "      <th>Unnamed: 0</th>\n",
       "      <th>Unnamed: 1</th>\n",
       "      <th>Unnamed: 2</th>\n",
       "    </tr>\n",
       "  </thead>\n",
       "  <tbody>\n",
       "    <tr>\n",
       "      <th>0</th>\n",
       "      <td>Variable Name</td>\n",
       "      <td>Description</td>\n",
       "      <td>Type</td>\n",
       "    </tr>\n",
       "    <tr>\n",
       "      <th>1</th>\n",
       "      <td>SeriousDlqin2yrs</td>\n",
       "      <td>Person experienced 90 days past due delinquenc...</td>\n",
       "      <td>Y/N</td>\n",
       "    </tr>\n",
       "    <tr>\n",
       "      <th>2</th>\n",
       "      <td>RevolvingUtilizationOfUnsecuredLines</td>\n",
       "      <td>Total balance on credit cards and personal lin...</td>\n",
       "      <td>percentage</td>\n",
       "    </tr>\n",
       "    <tr>\n",
       "      <th>3</th>\n",
       "      <td>age</td>\n",
       "      <td>Age of borrower in years</td>\n",
       "      <td>integer</td>\n",
       "    </tr>\n",
       "    <tr>\n",
       "      <th>4</th>\n",
       "      <td>NumberOfTime30-59DaysPastDueNotWorse</td>\n",
       "      <td>Number of times borrower has been 30-59 days p...</td>\n",
       "      <td>integer</td>\n",
       "    </tr>\n",
       "    <tr>\n",
       "      <th>5</th>\n",
       "      <td>DebtRatio</td>\n",
       "      <td>Monthly debt payments, alimony,living costs di...</td>\n",
       "      <td>percentage</td>\n",
       "    </tr>\n",
       "    <tr>\n",
       "      <th>6</th>\n",
       "      <td>MonthlyIncome</td>\n",
       "      <td>Monthly income</td>\n",
       "      <td>real</td>\n",
       "    </tr>\n",
       "    <tr>\n",
       "      <th>7</th>\n",
       "      <td>NumberOfOpenCreditLinesAndLoans</td>\n",
       "      <td>Number of Open loans (installment like car loa...</td>\n",
       "      <td>integer</td>\n",
       "    </tr>\n",
       "    <tr>\n",
       "      <th>8</th>\n",
       "      <td>NumberOfTimes90DaysLate</td>\n",
       "      <td>Number of times borrower has been 90 days or m...</td>\n",
       "      <td>integer</td>\n",
       "    </tr>\n",
       "    <tr>\n",
       "      <th>9</th>\n",
       "      <td>NumberRealEstateLoansOrLines</td>\n",
       "      <td>Number of mortgage and real estate loans inclu...</td>\n",
       "      <td>integer</td>\n",
       "    </tr>\n",
       "    <tr>\n",
       "      <th>10</th>\n",
       "      <td>NumberOfTime60-89DaysPastDueNotWorse</td>\n",
       "      <td>Number of times borrower has been 60-89 days p...</td>\n",
       "      <td>integer</td>\n",
       "    </tr>\n",
       "    <tr>\n",
       "      <th>11</th>\n",
       "      <td>NumberOfDependents</td>\n",
       "      <td>Number of dependents in family excluding thems...</td>\n",
       "      <td>integer</td>\n",
       "    </tr>\n",
       "  </tbody>\n",
       "</table>\n",
       "</div>"
      ],
      "text/plain": [
       "                              Unnamed: 0  \\\n",
       "0                          Variable Name   \n",
       "1                       SeriousDlqin2yrs   \n",
       "2   RevolvingUtilizationOfUnsecuredLines   \n",
       "3                                    age   \n",
       "4   NumberOfTime30-59DaysPastDueNotWorse   \n",
       "5                              DebtRatio   \n",
       "6                          MonthlyIncome   \n",
       "7        NumberOfOpenCreditLinesAndLoans   \n",
       "8                NumberOfTimes90DaysLate   \n",
       "9           NumberRealEstateLoansOrLines   \n",
       "10  NumberOfTime60-89DaysPastDueNotWorse   \n",
       "11                    NumberOfDependents   \n",
       "\n",
       "                                           Unnamed: 1  Unnamed: 2  \n",
       "0                                         Description        Type  \n",
       "1   Person experienced 90 days past due delinquenc...         Y/N  \n",
       "2   Total balance on credit cards and personal lin...  percentage  \n",
       "3                            Age of borrower in years     integer  \n",
       "4   Number of times borrower has been 30-59 days p...     integer  \n",
       "5   Monthly debt payments, alimony,living costs di...  percentage  \n",
       "6                                      Monthly income        real  \n",
       "7   Number of Open loans (installment like car loa...     integer  \n",
       "8   Number of times borrower has been 90 days or m...     integer  \n",
       "9   Number of mortgage and real estate loans inclu...     integer  \n",
       "10  Number of times borrower has been 60-89 days p...     integer  \n",
       "11  Number of dependents in family excluding thems...     integer  "
      ]
     },
     "execution_count": 4,
     "metadata": {},
     "output_type": "execute_result"
    }
   ],
   "source": [
    "columns"
   ]
  },
  {
   "cell_type": "markdown",
   "metadata": {},
   "source": [
    "We can see from the above table that there are 11 variables given."
   ]
  },
  {
   "cell_type": "markdown",
   "metadata": {},
   "source": [
    "1. Explore Data Analysis"
   ]
  },
  {
   "cell_type": "code",
   "execution_count": 5,
   "metadata": {},
   "outputs": [
    {
     "data": {
      "text/html": [
       "<div>\n",
       "<style scoped>\n",
       "    .dataframe tbody tr th:only-of-type {\n",
       "        vertical-align: middle;\n",
       "    }\n",
       "\n",
       "    .dataframe tbody tr th {\n",
       "        vertical-align: top;\n",
       "    }\n",
       "\n",
       "    .dataframe thead th {\n",
       "        text-align: right;\n",
       "    }\n",
       "</style>\n",
       "<table border=\"1\" class=\"dataframe\">\n",
       "  <thead>\n",
       "    <tr style=\"text-align: right;\">\n",
       "      <th></th>\n",
       "      <th>Unnamed: 0</th>\n",
       "      <th>SeriousDlqin2yrs</th>\n",
       "      <th>RevolvingUtilizationOfUnsecuredLines</th>\n",
       "      <th>age</th>\n",
       "      <th>NumberOfTime30-59DaysPastDueNotWorse</th>\n",
       "      <th>DebtRatio</th>\n",
       "      <th>MonthlyIncome</th>\n",
       "      <th>NumberOfOpenCreditLinesAndLoans</th>\n",
       "      <th>NumberOfTimes90DaysLate</th>\n",
       "      <th>NumberRealEstateLoansOrLines</th>\n",
       "      <th>NumberOfTime60-89DaysPastDueNotWorse</th>\n",
       "      <th>NumberOfDependents</th>\n",
       "    </tr>\n",
       "  </thead>\n",
       "  <tbody>\n",
       "    <tr>\n",
       "      <th>0</th>\n",
       "      <td>1</td>\n",
       "      <td>1</td>\n",
       "      <td>0.766127</td>\n",
       "      <td>45</td>\n",
       "      <td>2</td>\n",
       "      <td>0.802982</td>\n",
       "      <td>9120.0</td>\n",
       "      <td>13</td>\n",
       "      <td>0</td>\n",
       "      <td>6</td>\n",
       "      <td>0</td>\n",
       "      <td>2.0</td>\n",
       "    </tr>\n",
       "    <tr>\n",
       "      <th>1</th>\n",
       "      <td>2</td>\n",
       "      <td>0</td>\n",
       "      <td>0.957151</td>\n",
       "      <td>40</td>\n",
       "      <td>0</td>\n",
       "      <td>0.121876</td>\n",
       "      <td>2600.0</td>\n",
       "      <td>4</td>\n",
       "      <td>0</td>\n",
       "      <td>0</td>\n",
       "      <td>0</td>\n",
       "      <td>1.0</td>\n",
       "    </tr>\n",
       "    <tr>\n",
       "      <th>2</th>\n",
       "      <td>3</td>\n",
       "      <td>0</td>\n",
       "      <td>0.658180</td>\n",
       "      <td>38</td>\n",
       "      <td>1</td>\n",
       "      <td>0.085113</td>\n",
       "      <td>3042.0</td>\n",
       "      <td>2</td>\n",
       "      <td>1</td>\n",
       "      <td>0</td>\n",
       "      <td>0</td>\n",
       "      <td>0.0</td>\n",
       "    </tr>\n",
       "    <tr>\n",
       "      <th>3</th>\n",
       "      <td>4</td>\n",
       "      <td>0</td>\n",
       "      <td>0.233810</td>\n",
       "      <td>30</td>\n",
       "      <td>0</td>\n",
       "      <td>0.036050</td>\n",
       "      <td>3300.0</td>\n",
       "      <td>5</td>\n",
       "      <td>0</td>\n",
       "      <td>0</td>\n",
       "      <td>0</td>\n",
       "      <td>0.0</td>\n",
       "    </tr>\n",
       "    <tr>\n",
       "      <th>4</th>\n",
       "      <td>5</td>\n",
       "      <td>0</td>\n",
       "      <td>0.907239</td>\n",
       "      <td>49</td>\n",
       "      <td>1</td>\n",
       "      <td>0.024926</td>\n",
       "      <td>63588.0</td>\n",
       "      <td>7</td>\n",
       "      <td>0</td>\n",
       "      <td>1</td>\n",
       "      <td>0</td>\n",
       "      <td>0.0</td>\n",
       "    </tr>\n",
       "  </tbody>\n",
       "</table>\n",
       "</div>"
      ],
      "text/plain": [
       "   Unnamed: 0  SeriousDlqin2yrs  RevolvingUtilizationOfUnsecuredLines  age  \\\n",
       "0           1                 1                              0.766127   45   \n",
       "1           2                 0                              0.957151   40   \n",
       "2           3                 0                              0.658180   38   \n",
       "3           4                 0                              0.233810   30   \n",
       "4           5                 0                              0.907239   49   \n",
       "\n",
       "   NumberOfTime30-59DaysPastDueNotWorse  DebtRatio  MonthlyIncome  \\\n",
       "0                                     2   0.802982         9120.0   \n",
       "1                                     0   0.121876         2600.0   \n",
       "2                                     1   0.085113         3042.0   \n",
       "3                                     0   0.036050         3300.0   \n",
       "4                                     1   0.024926        63588.0   \n",
       "\n",
       "   NumberOfOpenCreditLinesAndLoans  NumberOfTimes90DaysLate  \\\n",
       "0                               13                        0   \n",
       "1                                4                        0   \n",
       "2                                2                        1   \n",
       "3                                5                        0   \n",
       "4                                7                        0   \n",
       "\n",
       "   NumberRealEstateLoansOrLines  NumberOfTime60-89DaysPastDueNotWorse  \\\n",
       "0                             6                                     0   \n",
       "1                             0                                     0   \n",
       "2                             0                                     0   \n",
       "3                             0                                     0   \n",
       "4                             1                                     0   \n",
       "\n",
       "   NumberOfDependents  \n",
       "0                 2.0  \n",
       "1                 1.0  \n",
       "2                 0.0  \n",
       "3                 0.0  \n",
       "4                 0.0  "
      ]
     },
     "execution_count": 5,
     "metadata": {},
     "output_type": "execute_result"
    }
   ],
   "source": [
    "train = pd.read_csv('cs-training.csv')\n",
    "train.head()"
   ]
  },
  {
   "cell_type": "code",
   "execution_count": 6,
   "metadata": {},
   "outputs": [
    {
     "data": {
      "text/plain": [
       "(150000, 12)"
      ]
     },
     "execution_count": 6,
     "metadata": {},
     "output_type": "execute_result"
    }
   ],
   "source": [
    "train.shape"
   ]
  },
  {
   "cell_type": "code",
   "execution_count": 7,
   "metadata": {},
   "outputs": [],
   "source": [
    "test = pd.read_csv('cs-test.csv')"
   ]
  },
  {
   "cell_type": "code",
   "execution_count": 8,
   "metadata": {},
   "outputs": [
    {
     "data": {
      "text/html": [
       "<div>\n",
       "<style scoped>\n",
       "    .dataframe tbody tr th:only-of-type {\n",
       "        vertical-align: middle;\n",
       "    }\n",
       "\n",
       "    .dataframe tbody tr th {\n",
       "        vertical-align: top;\n",
       "    }\n",
       "\n",
       "    .dataframe thead th {\n",
       "        text-align: right;\n",
       "    }\n",
       "</style>\n",
       "<table border=\"1\" class=\"dataframe\">\n",
       "  <thead>\n",
       "    <tr style=\"text-align: right;\">\n",
       "      <th></th>\n",
       "      <th>Unnamed: 0</th>\n",
       "      <th>SeriousDlqin2yrs</th>\n",
       "      <th>RevolvingUtilizationOfUnsecuredLines</th>\n",
       "      <th>age</th>\n",
       "      <th>NumberOfTime30-59DaysPastDueNotWorse</th>\n",
       "      <th>DebtRatio</th>\n",
       "      <th>MonthlyIncome</th>\n",
       "      <th>NumberOfOpenCreditLinesAndLoans</th>\n",
       "      <th>NumberOfTimes90DaysLate</th>\n",
       "      <th>NumberRealEstateLoansOrLines</th>\n",
       "      <th>NumberOfTime60-89DaysPastDueNotWorse</th>\n",
       "      <th>NumberOfDependents</th>\n",
       "    </tr>\n",
       "  </thead>\n",
       "  <tbody>\n",
       "    <tr>\n",
       "      <th>0</th>\n",
       "      <td>1</td>\n",
       "      <td>NaN</td>\n",
       "      <td>0.885519</td>\n",
       "      <td>43</td>\n",
       "      <td>0</td>\n",
       "      <td>0.177513</td>\n",
       "      <td>5700.0</td>\n",
       "      <td>4</td>\n",
       "      <td>0</td>\n",
       "      <td>0</td>\n",
       "      <td>0</td>\n",
       "      <td>0.0</td>\n",
       "    </tr>\n",
       "    <tr>\n",
       "      <th>1</th>\n",
       "      <td>2</td>\n",
       "      <td>NaN</td>\n",
       "      <td>0.463295</td>\n",
       "      <td>57</td>\n",
       "      <td>0</td>\n",
       "      <td>0.527237</td>\n",
       "      <td>9141.0</td>\n",
       "      <td>15</td>\n",
       "      <td>0</td>\n",
       "      <td>4</td>\n",
       "      <td>0</td>\n",
       "      <td>2.0</td>\n",
       "    </tr>\n",
       "    <tr>\n",
       "      <th>2</th>\n",
       "      <td>3</td>\n",
       "      <td>NaN</td>\n",
       "      <td>0.043275</td>\n",
       "      <td>59</td>\n",
       "      <td>0</td>\n",
       "      <td>0.687648</td>\n",
       "      <td>5083.0</td>\n",
       "      <td>12</td>\n",
       "      <td>0</td>\n",
       "      <td>1</td>\n",
       "      <td>0</td>\n",
       "      <td>2.0</td>\n",
       "    </tr>\n",
       "    <tr>\n",
       "      <th>3</th>\n",
       "      <td>4</td>\n",
       "      <td>NaN</td>\n",
       "      <td>0.280308</td>\n",
       "      <td>38</td>\n",
       "      <td>1</td>\n",
       "      <td>0.925961</td>\n",
       "      <td>3200.0</td>\n",
       "      <td>7</td>\n",
       "      <td>0</td>\n",
       "      <td>2</td>\n",
       "      <td>0</td>\n",
       "      <td>0.0</td>\n",
       "    </tr>\n",
       "    <tr>\n",
       "      <th>4</th>\n",
       "      <td>5</td>\n",
       "      <td>NaN</td>\n",
       "      <td>1.000000</td>\n",
       "      <td>27</td>\n",
       "      <td>0</td>\n",
       "      <td>0.019917</td>\n",
       "      <td>3865.0</td>\n",
       "      <td>4</td>\n",
       "      <td>0</td>\n",
       "      <td>0</td>\n",
       "      <td>0</td>\n",
       "      <td>1.0</td>\n",
       "    </tr>\n",
       "  </tbody>\n",
       "</table>\n",
       "</div>"
      ],
      "text/plain": [
       "   Unnamed: 0  SeriousDlqin2yrs  RevolvingUtilizationOfUnsecuredLines  age  \\\n",
       "0           1               NaN                              0.885519   43   \n",
       "1           2               NaN                              0.463295   57   \n",
       "2           3               NaN                              0.043275   59   \n",
       "3           4               NaN                              0.280308   38   \n",
       "4           5               NaN                              1.000000   27   \n",
       "\n",
       "   NumberOfTime30-59DaysPastDueNotWorse  DebtRatio  MonthlyIncome  \\\n",
       "0                                     0   0.177513         5700.0   \n",
       "1                                     0   0.527237         9141.0   \n",
       "2                                     0   0.687648         5083.0   \n",
       "3                                     1   0.925961         3200.0   \n",
       "4                                     0   0.019917         3865.0   \n",
       "\n",
       "   NumberOfOpenCreditLinesAndLoans  NumberOfTimes90DaysLate  \\\n",
       "0                                4                        0   \n",
       "1                               15                        0   \n",
       "2                               12                        0   \n",
       "3                                7                        0   \n",
       "4                                4                        0   \n",
       "\n",
       "   NumberRealEstateLoansOrLines  NumberOfTime60-89DaysPastDueNotWorse  \\\n",
       "0                             0                                     0   \n",
       "1                             4                                     0   \n",
       "2                             1                                     0   \n",
       "3                             2                                     0   \n",
       "4                             0                                     0   \n",
       "\n",
       "   NumberOfDependents  \n",
       "0                 0.0  \n",
       "1                 2.0  \n",
       "2                 2.0  \n",
       "3                 0.0  \n",
       "4                 1.0  "
      ]
     },
     "execution_count": 8,
     "metadata": {},
     "output_type": "execute_result"
    }
   ],
   "source": [
    "test.head()"
   ]
  },
  {
   "cell_type": "code",
   "execution_count": 9,
   "metadata": {},
   "outputs": [
    {
     "data": {
      "text/plain": [
       "(101503, 12)"
      ]
     },
     "execution_count": 9,
     "metadata": {},
     "output_type": "execute_result"
    }
   ],
   "source": [
    "test.shape"
   ]
  },
  {
   "cell_type": "markdown",
   "metadata": {},
   "source": [
    "2. Feature Project"
   ]
  },
  {
   "cell_type": "markdown",
   "metadata": {},
   "source": [
    "2.1 SeriousDlqin2yrs"
   ]
  },
  {
   "cell_type": "code",
   "execution_count": 10,
   "metadata": {},
   "outputs": [
    {
     "data": {
      "text/plain": [
       "<AxesSubplot:xlabel='SeriousDlqin2yrs', ylabel='count'>"
      ]
     },
     "execution_count": 10,
     "metadata": {},
     "output_type": "execute_result"
    },
    {
     "data": {
      "image/png": "[encoded data removed]",
      "text/plain": [
       "<Figure size 432x288 with 1 Axes>"
      ]
     },
     "metadata": {},
     "output_type": "display_data"
    }
   ],
   "source": [
    "sns.set_theme(style=\"whitegrid\")\n",
    "sns.countplot(x='SeriousDlqin2yrs',data=train)"
   ]
  },
  {
   "cell_type": "code",
   "execution_count": 11,
   "metadata": {},
   "outputs": [
    {
     "data": {
      "text/plain": [
       "0    139974\n",
       "1     10026\n",
       "Name: SeriousDlqin2yrs, dtype: int64"
      ]
     },
     "execution_count": 11,
     "metadata": {},
     "output_type": "execute_result"
    }
   ],
   "source": [
    "train.SeriousDlqin2yrs.value_counts()"
   ]
  },
  {
   "cell_type": "markdown",
   "metadata": {},
   "source": [
    "2.2 RevolvingUtilizationOfUnsecuredLines"
   ]
  },
  {
   "cell_type": "code",
   "execution_count": 12,
   "metadata": {},
   "outputs": [
    {
     "data": {
      "text/plain": [
       "<AxesSubplot:xlabel='RevolvingUtilizationOfUnsecuredLines'>"
      ]
     },
     "execution_count": 12,
     "metadata": {},
     "output_type": "execute_result"
    },
    {
     "data": {
      "image/png": "[encoded data removed]",
      "text/plain": [
       "<Figure size 432x288 with 1 Axes>"
      ]
     },
     "metadata": {},
     "output_type": "display_data"
    }
   ],
   "source": [
    "sns.boxplot(data=train, x='RevolvingUtilizationOfUnsecuredLines', color='#95a5a6')"
   ]
  },
  {
   "cell_type": "markdown",
   "metadata": {},
   "source": []
  },
  {
   "cell_type": "markdown",
   "metadata": {},
   "source": [
    "2.3 age"
   ]
  },
  {
   "cell_type": "code",
   "execution_count": 13,
   "metadata": {},
   "outputs": [
    {
     "name": "stderr",
     "output_type": "stream",
     "text": [
      "/Users/linkeke/opt/anaconda3/lib/python3.8/site-packages/seaborn/distributions.py:2551: FutureWarning: `distplot` is a deprecated function and will be removed in a future version. Please adapt your code to use either `displot` (a figure-level function with similar flexibility) or `histplot` (an axes-level function for histograms).\n",
      "  warnings.warn(msg, FutureWarning)\n"
     ]
    },
    {
     "data": {
      "text/plain": [
       "<AxesSubplot:xlabel='age', ylabel='Density'>"
      ]
     },
     "execution_count": 13,
     "metadata": {},
     "output_type": "execute_result"
    },
    {
     "data": {
      "image/png": "[encoded data removed]",
      "text/plain": [
       "<Figure size 432x288 with 1 Axes>"
      ]
     },
     "metadata": {},
     "output_type": "display_data"
    }
   ],
   "source": [
    "sns.distplot(train.age)"
   ]
  },
  {
   "cell_type": "code",
   "execution_count": 14,
   "metadata": {},
   "outputs": [
    {
     "name": "stderr",
     "output_type": "stream",
     "text": [
      "/Users/linkeke/opt/anaconda3/lib/python3.8/site-packages/seaborn/_decorators.py:36: FutureWarning: Pass the following variable as a keyword arg: x. From version 0.12, the only valid positional argument will be `data`, and passing other arguments without an explicit keyword will result in an error or misinterpretation.\n",
      "  warnings.warn(\n"
     ]
    },
    {
     "data": {
      "text/plain": [
       "<AxesSubplot:xlabel='age'>"
      ]
     },
     "execution_count": 14,
     "metadata": {},
     "output_type": "execute_result"
    },
    {
     "data": {
      "image/png": "[encoded data removed]",
      "text/plain": [
       "<Figure size 432x288 with 1 Axes>"
      ]
     },
     "metadata": {},
     "output_type": "display_data"
    }
   ],
   "source": [
    "sns.boxplot(train.age)"
   ]
  },
  {
   "cell_type": "code",
   "execution_count": 15,
   "metadata": {},
   "outputs": [
    {
     "name": "stderr",
     "output_type": "stream",
     "text": [
      "/Users/linkeke/opt/anaconda3/lib/python3.8/site-packages/seaborn/axisgrid.py:645: UserWarning: Using the boxplot function without specifying `order` is likely to produce an incorrect plot.\n",
      "  warnings.warn(warning)\n"
     ]
    },
    {
     "data": {
      "text/plain": [
       "<seaborn.axisgrid.FacetGrid at 0x7fd8603dbdf0>"
      ]
     },
     "execution_count": 15,
     "metadata": {},
     "output_type": "execute_result"
    },
    {
     "data": {
      "image/png": "[encoded data removed]",
      "text/plain": [
       "<Figure size 432x216 with 2 Axes>"
      ]
     },
     "metadata": {},
     "output_type": "display_data"
    }
   ],
   "source": [
    "g = sns.FacetGrid(train, col='SeriousDlqin2yrs')\n",
    "g.map(sns.boxplot, 'age')"
   ]
  },
  {
   "cell_type": "code",
   "execution_count": 16,
   "metadata": {},
   "outputs": [
    {
     "data": {
      "text/html": [
       "<div>\n",
       "<style scoped>\n",
       "    .dataframe tbody tr th:only-of-type {\n",
       "        vertical-align: middle;\n",
       "    }\n",
       "\n",
       "    .dataframe tbody tr th {\n",
       "        vertical-align: top;\n",
       "    }\n",
       "\n",
       "    .dataframe thead th {\n",
       "        text-align: right;\n",
       "    }\n",
       "</style>\n",
       "<table border=\"1\" class=\"dataframe\">\n",
       "  <thead>\n",
       "    <tr style=\"text-align: right;\">\n",
       "      <th></th>\n",
       "      <th>Unnamed: 0</th>\n",
       "      <th>SeriousDlqin2yrs</th>\n",
       "      <th>RevolvingUtilizationOfUnsecuredLines</th>\n",
       "      <th>age</th>\n",
       "      <th>NumberOfTime30-59DaysPastDueNotWorse</th>\n",
       "      <th>DebtRatio</th>\n",
       "      <th>MonthlyIncome</th>\n",
       "      <th>NumberOfOpenCreditLinesAndLoans</th>\n",
       "      <th>NumberOfTimes90DaysLate</th>\n",
       "      <th>NumberRealEstateLoansOrLines</th>\n",
       "      <th>NumberOfTime60-89DaysPastDueNotWorse</th>\n",
       "      <th>NumberOfDependents</th>\n",
       "    </tr>\n",
       "  </thead>\n",
       "  <tbody>\n",
       "    <tr>\n",
       "      <th>7763</th>\n",
       "      <td>7764</td>\n",
       "      <td>0</td>\n",
       "      <td>0.069167</td>\n",
       "      <td>101</td>\n",
       "      <td>0</td>\n",
       "      <td>50.000000</td>\n",
       "      <td>NaN</td>\n",
       "      <td>2</td>\n",
       "      <td>0</td>\n",
       "      <td>0</td>\n",
       "      <td>0</td>\n",
       "      <td>0.0</td>\n",
       "    </tr>\n",
       "    <tr>\n",
       "      <th>19884</th>\n",
       "      <td>19885</td>\n",
       "      <td>0</td>\n",
       "      <td>1.000000</td>\n",
       "      <td>103</td>\n",
       "      <td>0</td>\n",
       "      <td>0.000000</td>\n",
       "      <td>1600.0</td>\n",
       "      <td>3</td>\n",
       "      <td>0</td>\n",
       "      <td>0</td>\n",
       "      <td>0</td>\n",
       "      <td>0.0</td>\n",
       "    </tr>\n",
       "    <tr>\n",
       "      <th>25561</th>\n",
       "      <td>25562</td>\n",
       "      <td>0</td>\n",
       "      <td>0.009866</td>\n",
       "      <td>102</td>\n",
       "      <td>0</td>\n",
       "      <td>0.002424</td>\n",
       "      <td>3300.0</td>\n",
       "      <td>3</td>\n",
       "      <td>0</td>\n",
       "      <td>0</td>\n",
       "      <td>0</td>\n",
       "      <td>0.0</td>\n",
       "    </tr>\n",
       "    <tr>\n",
       "      <th>40007</th>\n",
       "      <td>40008</td>\n",
       "      <td>0</td>\n",
       "      <td>0.064748</td>\n",
       "      <td>107</td>\n",
       "      <td>0</td>\n",
       "      <td>939.000000</td>\n",
       "      <td>NaN</td>\n",
       "      <td>9</td>\n",
       "      <td>0</td>\n",
       "      <td>1</td>\n",
       "      <td>0</td>\n",
       "      <td>0.0</td>\n",
       "    </tr>\n",
       "    <tr>\n",
       "      <th>56761</th>\n",
       "      <td>56762</td>\n",
       "      <td>0</td>\n",
       "      <td>0.003469</td>\n",
       "      <td>105</td>\n",
       "      <td>0</td>\n",
       "      <td>2.000000</td>\n",
       "      <td>NaN</td>\n",
       "      <td>4</td>\n",
       "      <td>0</td>\n",
       "      <td>0</td>\n",
       "      <td>0</td>\n",
       "      <td>NaN</td>\n",
       "    </tr>\n",
       "    <tr>\n",
       "      <th>57967</th>\n",
       "      <td>57968</td>\n",
       "      <td>0</td>\n",
       "      <td>0.001397</td>\n",
       "      <td>103</td>\n",
       "      <td>0</td>\n",
       "      <td>1798.500000</td>\n",
       "      <td>1.0</td>\n",
       "      <td>11</td>\n",
       "      <td>0</td>\n",
       "      <td>2</td>\n",
       "      <td>0</td>\n",
       "      <td>0.0</td>\n",
       "    </tr>\n",
       "    <tr>\n",
       "      <th>90937</th>\n",
       "      <td>90938</td>\n",
       "      <td>0</td>\n",
       "      <td>0.000000</td>\n",
       "      <td>102</td>\n",
       "      <td>0</td>\n",
       "      <td>0.000000</td>\n",
       "      <td>NaN</td>\n",
       "      <td>12</td>\n",
       "      <td>0</td>\n",
       "      <td>0</td>\n",
       "      <td>0</td>\n",
       "      <td>0.0</td>\n",
       "    </tr>\n",
       "    <tr>\n",
       "      <th>93813</th>\n",
       "      <td>93814</td>\n",
       "      <td>0</td>\n",
       "      <td>0.025780</td>\n",
       "      <td>101</td>\n",
       "      <td>0</td>\n",
       "      <td>0.013797</td>\n",
       "      <td>1666.0</td>\n",
       "      <td>5</td>\n",
       "      <td>0</td>\n",
       "      <td>0</td>\n",
       "      <td>0</td>\n",
       "      <td>0.0</td>\n",
       "    </tr>\n",
       "    <tr>\n",
       "      <th>96450</th>\n",
       "      <td>96451</td>\n",
       "      <td>0</td>\n",
       "      <td>0.109642</td>\n",
       "      <td>102</td>\n",
       "      <td>0</td>\n",
       "      <td>0.273844</td>\n",
       "      <td>3417.0</td>\n",
       "      <td>7</td>\n",
       "      <td>0</td>\n",
       "      <td>0</td>\n",
       "      <td>0</td>\n",
       "      <td>1.0</td>\n",
       "    </tr>\n",
       "    <tr>\n",
       "      <th>105790</th>\n",
       "      <td>105791</td>\n",
       "      <td>0</td>\n",
       "      <td>0.109307</td>\n",
       "      <td>109</td>\n",
       "      <td>0</td>\n",
       "      <td>2141.000000</td>\n",
       "      <td>NaN</td>\n",
       "      <td>17</td>\n",
       "      <td>0</td>\n",
       "      <td>1</td>\n",
       "      <td>0</td>\n",
       "      <td>NaN</td>\n",
       "    </tr>\n",
       "    <tr>\n",
       "      <th>116129</th>\n",
       "      <td>116130</td>\n",
       "      <td>1</td>\n",
       "      <td>0.002964</td>\n",
       "      <td>101</td>\n",
       "      <td>2</td>\n",
       "      <td>0.001387</td>\n",
       "      <td>2883.0</td>\n",
       "      <td>6</td>\n",
       "      <td>0</td>\n",
       "      <td>0</td>\n",
       "      <td>0</td>\n",
       "      <td>0.0</td>\n",
       "    </tr>\n",
       "    <tr>\n",
       "      <th>135025</th>\n",
       "      <td>135026</td>\n",
       "      <td>0</td>\n",
       "      <td>0.004059</td>\n",
       "      <td>103</td>\n",
       "      <td>0</td>\n",
       "      <td>5.000000</td>\n",
       "      <td>NaN</td>\n",
       "      <td>6</td>\n",
       "      <td>0</td>\n",
       "      <td>0</td>\n",
       "      <td>0</td>\n",
       "      <td>0.0</td>\n",
       "    </tr>\n",
       "    <tr>\n",
       "      <th>138291</th>\n",
       "      <td>138292</td>\n",
       "      <td>0</td>\n",
       "      <td>0.246529</td>\n",
       "      <td>109</td>\n",
       "      <td>0</td>\n",
       "      <td>318.000000</td>\n",
       "      <td>NaN</td>\n",
       "      <td>3</td>\n",
       "      <td>0</td>\n",
       "      <td>0</td>\n",
       "      <td>0</td>\n",
       "      <td>NaN</td>\n",
       "    </tr>\n",
       "  </tbody>\n",
       "</table>\n",
       "</div>"
      ],
      "text/plain": [
       "        Unnamed: 0  SeriousDlqin2yrs  RevolvingUtilizationOfUnsecuredLines  \\\n",
       "7763          7764                 0                              0.069167   \n",
       "19884        19885                 0                              1.000000   \n",
       "25561        25562                 0                              0.009866   \n",
       "40007        40008                 0                              0.064748   \n",
       "56761        56762                 0                              0.003469   \n",
       "57967        57968                 0                              0.001397   \n",
       "90937        90938                 0                              0.000000   \n",
       "93813        93814                 0                              0.025780   \n",
       "96450        96451                 0                              0.109642   \n",
       "105790      105791                 0                              0.109307   \n",
       "116129      116130                 1                              0.002964   \n",
       "135025      135026                 0                              0.004059   \n",
       "138291      138292                 0                              0.246529   \n",
       "\n",
       "        age  NumberOfTime30-59DaysPastDueNotWorse    DebtRatio  MonthlyIncome  \\\n",
       "7763    101                                     0    50.000000            NaN   \n",
       "19884   103                                     0     0.000000         1600.0   \n",
       "25561   102                                     0     0.002424         3300.0   \n",
       "40007   107                                     0   939.000000            NaN   \n",
       "56761   105                                     0     2.000000            NaN   \n",
       "57967   103                                     0  1798.500000            1.0   \n",
       "90937   102                                     0     0.000000            NaN   \n",
       "93813   101                                     0     0.013797         1666.0   \n",
       "96450   102                                     0     0.273844         3417.0   \n",
       "105790  109                                     0  2141.000000            NaN   \n",
       "116129  101                                     2     0.001387         2883.0   \n",
       "135025  103                                     0     5.000000            NaN   \n",
       "138291  109                                     0   318.000000            NaN   \n",
       "\n",
       "        NumberOfOpenCreditLinesAndLoans  NumberOfTimes90DaysLate  \\\n",
       "7763                                  2                        0   \n",
       "19884                                 3                        0   \n",
       "25561                                 3                        0   \n",
       "40007                                 9                        0   \n",
       "56761                                 4                        0   \n",
       "57967                                11                        0   \n",
       "90937                                12                        0   \n",
       "93813                                 5                        0   \n",
       "96450                                 7                        0   \n",
       "105790                               17                        0   \n",
       "116129                                6                        0   \n",
       "135025                                6                        0   \n",
       "138291                                3                        0   \n",
       "\n",
       "        NumberRealEstateLoansOrLines  NumberOfTime60-89DaysPastDueNotWorse  \\\n",
       "7763                               0                                     0   \n",
       "19884                              0                                     0   \n",
       "25561                              0                                     0   \n",
       "40007                              1                                     0   \n",
       "56761                              0                                     0   \n",
       "57967                              2                                     0   \n",
       "90937                              0                                     0   \n",
       "93813                              0                                     0   \n",
       "96450                              0                                     0   \n",
       "105790                             1                                     0   \n",
       "116129                             0                                     0   \n",
       "135025                             0                                     0   \n",
       "138291                             0                                     0   \n",
       "\n",
       "        NumberOfDependents  \n",
       "7763                   0.0  \n",
       "19884                  0.0  \n",
       "25561                  0.0  \n",
       "40007                  0.0  \n",
       "56761                  NaN  \n",
       "57967                  0.0  \n",
       "90937                  0.0  \n",
       "93813                  0.0  \n",
       "96450                  1.0  \n",
       "105790                 NaN  \n",
       "116129                 0.0  \n",
       "135025                 0.0  \n",
       "138291                 NaN  "
      ]
     },
     "execution_count": 16,
     "metadata": {},
     "output_type": "execute_result"
    }
   ],
   "source": [
    "train[train.age>100]"
   ]
  },
  {
   "cell_type": "markdown",
   "metadata": {},
   "source": [
    "2.4 NumberOfTime30-59DaysPastDueNotWorse"
   ]
  },
  {
   "cell_type": "code",
   "execution_count": 17,
   "metadata": {},
   "outputs": [
    {
     "name": "stderr",
     "output_type": "stream",
     "text": [
      "/Users/linkeke/opt/anaconda3/lib/python3.8/site-packages/seaborn/_decorators.py:36: FutureWarning: Pass the following variable as a keyword arg: x. From version 0.12, the only valid positional argument will be `data`, and passing other arguments without an explicit keyword will result in an error or misinterpretation.\n",
      "  warnings.warn(\n"
     ]
    },
    {
     "data": {
      "text/plain": [
       "<AxesSubplot:xlabel='NumberOfTime30-59DaysPastDueNotWorse', ylabel='count'>"
      ]
     },
     "execution_count": 17,
     "metadata": {},
     "output_type": "execute_result"
    },
    {
     "data": {
      "image/png": "[encoded data removed]",
      "text/plain": [
       "<Figure size 432x288 with 1 Axes>"
      ]
     },
     "metadata": {},
     "output_type": "display_data"
    }
   ],
   "source": [
    "sns.countplot(train['NumberOfTime30-59DaysPastDueNotWorse'])"
   ]
  },
  {
   "cell_type": "code",
   "execution_count": 18,
   "metadata": {},
   "outputs": [
    {
     "data": {
      "text/html": [
       "<div>\n",
       "<style scoped>\n",
       "    .dataframe tbody tr th:only-of-type {\n",
       "        vertical-align: middle;\n",
       "    }\n",
       "\n",
       "    .dataframe tbody tr th {\n",
       "        vertical-align: top;\n",
       "    }\n",
       "\n",
       "    .dataframe thead th {\n",
       "        text-align: right;\n",
       "    }\n",
       "</style>\n",
       "<table border=\"1\" class=\"dataframe\">\n",
       "  <thead>\n",
       "    <tr style=\"text-align: right;\">\n",
       "      <th></th>\n",
       "      <th>Unnamed: 0</th>\n",
       "      <th>SeriousDlqin2yrs</th>\n",
       "      <th>RevolvingUtilizationOfUnsecuredLines</th>\n",
       "      <th>age</th>\n",
       "      <th>NumberOfTime30-59DaysPastDueNotWorse</th>\n",
       "      <th>DebtRatio</th>\n",
       "      <th>MonthlyIncome</th>\n",
       "      <th>NumberOfOpenCreditLinesAndLoans</th>\n",
       "      <th>NumberOfTimes90DaysLate</th>\n",
       "      <th>NumberRealEstateLoansOrLines</th>\n",
       "      <th>NumberOfTime60-89DaysPastDueNotWorse</th>\n",
       "      <th>NumberOfDependents</th>\n",
       "    </tr>\n",
       "  </thead>\n",
       "  <tbody>\n",
       "    <tr>\n",
       "      <th>1733</th>\n",
       "      <td>1734</td>\n",
       "      <td>1</td>\n",
       "      <td>1.0</td>\n",
       "      <td>27</td>\n",
       "      <td>98</td>\n",
       "      <td>0.0</td>\n",
       "      <td>2700.0</td>\n",
       "      <td>0</td>\n",
       "      <td>98</td>\n",
       "      <td>0</td>\n",
       "      <td>98</td>\n",
       "      <td>0.0</td>\n",
       "    </tr>\n",
       "    <tr>\n",
       "      <th>2286</th>\n",
       "      <td>2287</td>\n",
       "      <td>0</td>\n",
       "      <td>1.0</td>\n",
       "      <td>22</td>\n",
       "      <td>98</td>\n",
       "      <td>0.0</td>\n",
       "      <td>NaN</td>\n",
       "      <td>0</td>\n",
       "      <td>98</td>\n",
       "      <td>0</td>\n",
       "      <td>98</td>\n",
       "      <td>0.0</td>\n",
       "    </tr>\n",
       "    <tr>\n",
       "      <th>3884</th>\n",
       "      <td>3885</td>\n",
       "      <td>0</td>\n",
       "      <td>1.0</td>\n",
       "      <td>38</td>\n",
       "      <td>98</td>\n",
       "      <td>12.0</td>\n",
       "      <td>NaN</td>\n",
       "      <td>0</td>\n",
       "      <td>98</td>\n",
       "      <td>0</td>\n",
       "      <td>98</td>\n",
       "      <td>0.0</td>\n",
       "    </tr>\n",
       "    <tr>\n",
       "      <th>4417</th>\n",
       "      <td>4418</td>\n",
       "      <td>0</td>\n",
       "      <td>1.0</td>\n",
       "      <td>21</td>\n",
       "      <td>98</td>\n",
       "      <td>0.0</td>\n",
       "      <td>0.0</td>\n",
       "      <td>0</td>\n",
       "      <td>98</td>\n",
       "      <td>0</td>\n",
       "      <td>98</td>\n",
       "      <td>0.0</td>\n",
       "    </tr>\n",
       "    <tr>\n",
       "      <th>4705</th>\n",
       "      <td>4706</td>\n",
       "      <td>0</td>\n",
       "      <td>1.0</td>\n",
       "      <td>21</td>\n",
       "      <td>98</td>\n",
       "      <td>0.0</td>\n",
       "      <td>2000.0</td>\n",
       "      <td>0</td>\n",
       "      <td>98</td>\n",
       "      <td>0</td>\n",
       "      <td>98</td>\n",
       "      <td>0.0</td>\n",
       "    </tr>\n",
       "    <tr>\n",
       "      <th>...</th>\n",
       "      <td>...</td>\n",
       "      <td>...</td>\n",
       "      <td>...</td>\n",
       "      <td>...</td>\n",
       "      <td>...</td>\n",
       "      <td>...</td>\n",
       "      <td>...</td>\n",
       "      <td>...</td>\n",
       "      <td>...</td>\n",
       "      <td>...</td>\n",
       "      <td>...</td>\n",
       "      <td>...</td>\n",
       "    </tr>\n",
       "    <tr>\n",
       "      <th>147774</th>\n",
       "      <td>147775</td>\n",
       "      <td>1</td>\n",
       "      <td>1.0</td>\n",
       "      <td>68</td>\n",
       "      <td>98</td>\n",
       "      <td>255.0</td>\n",
       "      <td>NaN</td>\n",
       "      <td>0</td>\n",
       "      <td>98</td>\n",
       "      <td>0</td>\n",
       "      <td>98</td>\n",
       "      <td>0.0</td>\n",
       "    </tr>\n",
       "    <tr>\n",
       "      <th>149153</th>\n",
       "      <td>149154</td>\n",
       "      <td>1</td>\n",
       "      <td>1.0</td>\n",
       "      <td>24</td>\n",
       "      <td>98</td>\n",
       "      <td>54.0</td>\n",
       "      <td>NaN</td>\n",
       "      <td>0</td>\n",
       "      <td>98</td>\n",
       "      <td>0</td>\n",
       "      <td>98</td>\n",
       "      <td>0.0</td>\n",
       "    </tr>\n",
       "    <tr>\n",
       "      <th>149239</th>\n",
       "      <td>149240</td>\n",
       "      <td>0</td>\n",
       "      <td>1.0</td>\n",
       "      <td>26</td>\n",
       "      <td>98</td>\n",
       "      <td>0.0</td>\n",
       "      <td>2000.0</td>\n",
       "      <td>0</td>\n",
       "      <td>98</td>\n",
       "      <td>0</td>\n",
       "      <td>98</td>\n",
       "      <td>0.0</td>\n",
       "    </tr>\n",
       "    <tr>\n",
       "      <th>149439</th>\n",
       "      <td>149440</td>\n",
       "      <td>1</td>\n",
       "      <td>1.0</td>\n",
       "      <td>34</td>\n",
       "      <td>98</td>\n",
       "      <td>9.0</td>\n",
       "      <td>NaN</td>\n",
       "      <td>0</td>\n",
       "      <td>98</td>\n",
       "      <td>0</td>\n",
       "      <td>98</td>\n",
       "      <td>0.0</td>\n",
       "    </tr>\n",
       "    <tr>\n",
       "      <th>149769</th>\n",
       "      <td>149770</td>\n",
       "      <td>0</td>\n",
       "      <td>1.0</td>\n",
       "      <td>23</td>\n",
       "      <td>98</td>\n",
       "      <td>0.0</td>\n",
       "      <td>NaN</td>\n",
       "      <td>0</td>\n",
       "      <td>98</td>\n",
       "      <td>0</td>\n",
       "      <td>98</td>\n",
       "      <td>NaN</td>\n",
       "    </tr>\n",
       "  </tbody>\n",
       "</table>\n",
       "<p>269 rows × 12 columns</p>\n",
       "</div>"
      ],
      "text/plain": [
       "        Unnamed: 0  SeriousDlqin2yrs  RevolvingUtilizationOfUnsecuredLines  \\\n",
       "1733          1734                 1                                   1.0   \n",
       "2286          2287                 0                                   1.0   \n",
       "3884          3885                 0                                   1.0   \n",
       "4417          4418                 0                                   1.0   \n",
       "4705          4706                 0                                   1.0   \n",
       "...            ...               ...                                   ...   \n",
       "147774      147775                 1                                   1.0   \n",
       "149153      149154                 1                                   1.0   \n",
       "149239      149240                 0                                   1.0   \n",
       "149439      149440                 1                                   1.0   \n",
       "149769      149770                 0                                   1.0   \n",
       "\n",
       "        age  NumberOfTime30-59DaysPastDueNotWorse  DebtRatio  MonthlyIncome  \\\n",
       "1733     27                                    98        0.0         2700.0   \n",
       "2286     22                                    98        0.0            NaN   \n",
       "3884     38                                    98       12.0            NaN   \n",
       "4417     21                                    98        0.0            0.0   \n",
       "4705     21                                    98        0.0         2000.0   \n",
       "...     ...                                   ...        ...            ...   \n",
       "147774   68                                    98      255.0            NaN   \n",
       "149153   24                                    98       54.0            NaN   \n",
       "149239   26                                    98        0.0         2000.0   \n",
       "149439   34                                    98        9.0            NaN   \n",
       "149769   23                                    98        0.0            NaN   \n",
       "\n",
       "        NumberOfOpenCreditLinesAndLoans  NumberOfTimes90DaysLate  \\\n",
       "1733                                  0                       98   \n",
       "2286                                  0                       98   \n",
       "3884                                  0                       98   \n",
       "4417                                  0                       98   \n",
       "4705                                  0                       98   \n",
       "...                                 ...                      ...   \n",
       "147774                                0                       98   \n",
       "149153                                0                       98   \n",
       "149239                                0                       98   \n",
       "149439                                0                       98   \n",
       "149769                                0                       98   \n",
       "\n",
       "        NumberRealEstateLoansOrLines  NumberOfTime60-89DaysPastDueNotWorse  \\\n",
       "1733                               0                                    98   \n",
       "2286                               0                                    98   \n",
       "3884                               0                                    98   \n",
       "4417                               0                                    98   \n",
       "4705                               0                                    98   \n",
       "...                              ...                                   ...   \n",
       "147774                             0                                    98   \n",
       "149153                             0                                    98   \n",
       "149239                             0                                    98   \n",
       "149439                             0                                    98   \n",
       "149769                             0                                    98   \n",
       "\n",
       "        NumberOfDependents  \n",
       "1733                   0.0  \n",
       "2286                   0.0  \n",
       "3884                   0.0  \n",
       "4417                   0.0  \n",
       "4705                   0.0  \n",
       "...                    ...  \n",
       "147774                 0.0  \n",
       "149153                 0.0  \n",
       "149239                 0.0  \n",
       "149439                 0.0  \n",
       "149769                 NaN  \n",
       "\n",
       "[269 rows x 12 columns]"
      ]
     },
     "execution_count": 18,
     "metadata": {},
     "output_type": "execute_result"
    }
   ],
   "source": [
    "train.loc[train['NumberOfTime30-59DaysPastDueNotWorse']>=96]"
   ]
  },
  {
   "cell_type": "code",
   "execution_count": 19,
   "metadata": {},
   "outputs": [],
   "source": [
    "#set 15 as the maximum times of Overdue\n",
    "train.loc[train['NumberOfTime30-59DaysPastDueNotWorse']>15, 'NumberOfTime30-59DaysPastDueNotWorse'] = 15"
   ]
  },
  {
   "cell_type": "markdown",
   "metadata": {},
   "source": [
    "2.5 DebtRatio"
   ]
  },
  {
   "cell_type": "code",
   "execution_count": 20,
   "metadata": {},
   "outputs": [
    {
     "name": "stderr",
     "output_type": "stream",
     "text": [
      "/Users/linkeke/opt/anaconda3/lib/python3.8/site-packages/seaborn/distributions.py:2551: FutureWarning: `distplot` is a deprecated function and will be removed in a future version. Please adapt your code to use either `displot` (a figure-level function with similar flexibility) or `histplot` (an axes-level function for histograms).\n",
      "  warnings.warn(msg, FutureWarning)\n"
     ]
    },
    {
     "data": {
      "text/plain": [
       "<AxesSubplot:xlabel='DebtRatio', ylabel='Density'>"
      ]
     },
     "execution_count": 20,
     "metadata": {},
     "output_type": "execute_result"
    },
    {
     "data": {
      "image/png": "[encoded data removed]",
      "text/plain": [
       "<Figure size 432x288 with 1 Axes>"
      ]
     },
     "metadata": {},
     "output_type": "display_data"
    }
   ],
   "source": [
    "sns.distplot(train.DebtRatio)"
   ]
  },
  {
   "cell_type": "code",
   "execution_count": 21,
   "metadata": {},
   "outputs": [
    {
     "data": {
      "text/html": [
       "<div>\n",
       "<style scoped>\n",
       "    .dataframe tbody tr th:only-of-type {\n",
       "        vertical-align: middle;\n",
       "    }\n",
       "\n",
       "    .dataframe tbody tr th {\n",
       "        vertical-align: top;\n",
       "    }\n",
       "\n",
       "    .dataframe thead th {\n",
       "        text-align: right;\n",
       "    }\n",
       "</style>\n",
       "<table border=\"1\" class=\"dataframe\">\n",
       "  <thead>\n",
       "    <tr style=\"text-align: right;\">\n",
       "      <th></th>\n",
       "      <th>Unnamed: 0</th>\n",
       "      <th>SeriousDlqin2yrs</th>\n",
       "      <th>RevolvingUtilizationOfUnsecuredLines</th>\n",
       "      <th>age</th>\n",
       "      <th>NumberOfTime30-59DaysPastDueNotWorse</th>\n",
       "      <th>DebtRatio</th>\n",
       "      <th>MonthlyIncome</th>\n",
       "      <th>NumberOfOpenCreditLinesAndLoans</th>\n",
       "      <th>NumberOfTimes90DaysLate</th>\n",
       "      <th>NumberRealEstateLoansOrLines</th>\n",
       "      <th>NumberOfTime60-89DaysPastDueNotWorse</th>\n",
       "      <th>NumberOfDependents</th>\n",
       "    </tr>\n",
       "  </thead>\n",
       "  <tbody>\n",
       "    <tr>\n",
       "      <th>90</th>\n",
       "      <td>91</td>\n",
       "      <td>0</td>\n",
       "      <td>0.039388</td>\n",
       "      <td>51</td>\n",
       "      <td>0</td>\n",
       "      <td>15466.0</td>\n",
       "      <td>0.0</td>\n",
       "      <td>7</td>\n",
       "      <td>0</td>\n",
       "      <td>0</td>\n",
       "      <td>0</td>\n",
       "      <td>0.0</td>\n",
       "    </tr>\n",
       "    <tr>\n",
       "      <th>844</th>\n",
       "      <td>845</td>\n",
       "      <td>0</td>\n",
       "      <td>0.734284</td>\n",
       "      <td>45</td>\n",
       "      <td>0</td>\n",
       "      <td>11311.0</td>\n",
       "      <td>0.0</td>\n",
       "      <td>6</td>\n",
       "      <td>0</td>\n",
       "      <td>2</td>\n",
       "      <td>1</td>\n",
       "      <td>0.0</td>\n",
       "    </tr>\n",
       "    <tr>\n",
       "      <th>1156</th>\n",
       "      <td>1157</td>\n",
       "      <td>0</td>\n",
       "      <td>0.926060</td>\n",
       "      <td>48</td>\n",
       "      <td>1</td>\n",
       "      <td>12546.0</td>\n",
       "      <td>NaN</td>\n",
       "      <td>8</td>\n",
       "      <td>0</td>\n",
       "      <td>4</td>\n",
       "      <td>0</td>\n",
       "      <td>0.0</td>\n",
       "    </tr>\n",
       "    <tr>\n",
       "      <th>2664</th>\n",
       "      <td>2665</td>\n",
       "      <td>0</td>\n",
       "      <td>0.819907</td>\n",
       "      <td>58</td>\n",
       "      <td>0</td>\n",
       "      <td>10370.0</td>\n",
       "      <td>NaN</td>\n",
       "      <td>17</td>\n",
       "      <td>0</td>\n",
       "      <td>3</td>\n",
       "      <td>0</td>\n",
       "      <td>0.0</td>\n",
       "    </tr>\n",
       "    <tr>\n",
       "      <th>4854</th>\n",
       "      <td>4855</td>\n",
       "      <td>0</td>\n",
       "      <td>0.000000</td>\n",
       "      <td>56</td>\n",
       "      <td>0</td>\n",
       "      <td>168835.0</td>\n",
       "      <td>NaN</td>\n",
       "      <td>10</td>\n",
       "      <td>0</td>\n",
       "      <td>3</td>\n",
       "      <td>0</td>\n",
       "      <td>2.0</td>\n",
       "    </tr>\n",
       "    <tr>\n",
       "      <th>...</th>\n",
       "      <td>...</td>\n",
       "      <td>...</td>\n",
       "      <td>...</td>\n",
       "      <td>...</td>\n",
       "      <td>...</td>\n",
       "      <td>...</td>\n",
       "      <td>...</td>\n",
       "      <td>...</td>\n",
       "      <td>...</td>\n",
       "      <td>...</td>\n",
       "      <td>...</td>\n",
       "      <td>...</td>\n",
       "    </tr>\n",
       "    <tr>\n",
       "      <th>147216</th>\n",
       "      <td>147217</td>\n",
       "      <td>0</td>\n",
       "      <td>0.845973</td>\n",
       "      <td>68</td>\n",
       "      <td>0</td>\n",
       "      <td>10752.0</td>\n",
       "      <td>NaN</td>\n",
       "      <td>26</td>\n",
       "      <td>0</td>\n",
       "      <td>3</td>\n",
       "      <td>0</td>\n",
       "      <td>0.0</td>\n",
       "    </tr>\n",
       "    <tr>\n",
       "      <th>147310</th>\n",
       "      <td>147311</td>\n",
       "      <td>0</td>\n",
       "      <td>0.173502</td>\n",
       "      <td>69</td>\n",
       "      <td>0</td>\n",
       "      <td>12403.0</td>\n",
       "      <td>NaN</td>\n",
       "      <td>31</td>\n",
       "      <td>0</td>\n",
       "      <td>9</td>\n",
       "      <td>0</td>\n",
       "      <td>0.0</td>\n",
       "    </tr>\n",
       "    <tr>\n",
       "      <th>147773</th>\n",
       "      <td>147774</td>\n",
       "      <td>1</td>\n",
       "      <td>0.412257</td>\n",
       "      <td>40</td>\n",
       "      <td>0</td>\n",
       "      <td>12702.0</td>\n",
       "      <td>NaN</td>\n",
       "      <td>12</td>\n",
       "      <td>0</td>\n",
       "      <td>2</td>\n",
       "      <td>0</td>\n",
       "      <td>0.0</td>\n",
       "    </tr>\n",
       "    <tr>\n",
       "      <th>148872</th>\n",
       "      <td>148873</td>\n",
       "      <td>0</td>\n",
       "      <td>0.897637</td>\n",
       "      <td>47</td>\n",
       "      <td>2</td>\n",
       "      <td>20351.0</td>\n",
       "      <td>NaN</td>\n",
       "      <td>9</td>\n",
       "      <td>0</td>\n",
       "      <td>5</td>\n",
       "      <td>0</td>\n",
       "      <td>2.0</td>\n",
       "    </tr>\n",
       "    <tr>\n",
       "      <th>149848</th>\n",
       "      <td>149849</td>\n",
       "      <td>0</td>\n",
       "      <td>0.491903</td>\n",
       "      <td>48</td>\n",
       "      <td>0</td>\n",
       "      <td>15968.0</td>\n",
       "      <td>NaN</td>\n",
       "      <td>16</td>\n",
       "      <td>0</td>\n",
       "      <td>5</td>\n",
       "      <td>0</td>\n",
       "      <td>0.0</td>\n",
       "    </tr>\n",
       "  </tbody>\n",
       "</table>\n",
       "<p>180 rows × 12 columns</p>\n",
       "</div>"
      ],
      "text/plain": [
       "        Unnamed: 0  SeriousDlqin2yrs  RevolvingUtilizationOfUnsecuredLines  \\\n",
       "90              91                 0                              0.039388   \n",
       "844            845                 0                              0.734284   \n",
       "1156          1157                 0                              0.926060   \n",
       "2664          2665                 0                              0.819907   \n",
       "4854          4855                 0                              0.000000   \n",
       "...            ...               ...                                   ...   \n",
       "147216      147217                 0                              0.845973   \n",
       "147310      147311                 0                              0.173502   \n",
       "147773      147774                 1                              0.412257   \n",
       "148872      148873                 0                              0.897637   \n",
       "149848      149849                 0                              0.491903   \n",
       "\n",
       "        age  NumberOfTime30-59DaysPastDueNotWorse  DebtRatio  MonthlyIncome  \\\n",
       "90       51                                     0    15466.0            0.0   \n",
       "844      45                                     0    11311.0            0.0   \n",
       "1156     48                                     1    12546.0            NaN   \n",
       "2664     58                                     0    10370.0            NaN   \n",
       "4854     56                                     0   168835.0            NaN   \n",
       "...     ...                                   ...        ...            ...   \n",
       "147216   68                                     0    10752.0            NaN   \n",
       "147310   69                                     0    12403.0            NaN   \n",
       "147773   40                                     0    12702.0            NaN   \n",
       "148872   47                                     2    20351.0            NaN   \n",
       "149848   48                                     0    15968.0            NaN   \n",
       "\n",
       "        NumberOfOpenCreditLinesAndLoans  NumberOfTimes90DaysLate  \\\n",
       "90                                    7                        0   \n",
       "844                                   6                        0   \n",
       "1156                                  8                        0   \n",
       "2664                                 17                        0   \n",
       "4854                                 10                        0   \n",
       "...                                 ...                      ...   \n",
       "147216                               26                        0   \n",
       "147310                               31                        0   \n",
       "147773                               12                        0   \n",
       "148872                                9                        0   \n",
       "149848                               16                        0   \n",
       "\n",
       "        NumberRealEstateLoansOrLines  NumberOfTime60-89DaysPastDueNotWorse  \\\n",
       "90                                 0                                     0   \n",
       "844                                2                                     1   \n",
       "1156                               4                                     0   \n",
       "2664                               3                                     0   \n",
       "4854                               3                                     0   \n",
       "...                              ...                                   ...   \n",
       "147216                             3                                     0   \n",
       "147310                             9                                     0   \n",
       "147773                             2                                     0   \n",
       "148872                             5                                     0   \n",
       "149848                             5                                     0   \n",
       "\n",
       "        NumberOfDependents  \n",
       "90                     0.0  \n",
       "844                    0.0  \n",
       "1156                   0.0  \n",
       "2664                   0.0  \n",
       "4854                   2.0  \n",
       "...                    ...  \n",
       "147216                 0.0  \n",
       "147310                 0.0  \n",
       "147773                 0.0  \n",
       "148872                 2.0  \n",
       "149848                 0.0  \n",
       "\n",
       "[180 rows x 12 columns]"
      ]
     },
     "execution_count": 21,
     "metadata": {},
     "output_type": "execute_result"
    }
   ],
   "source": [
    "train[train.DebtRatio>10000]"
   ]
  },
  {
   "cell_type": "markdown",
   "metadata": {},
   "source": [
    "2.6 MonthlyIncome"
   ]
  },
  {
   "cell_type": "code",
   "execution_count": 22,
   "metadata": {},
   "outputs": [
    {
     "data": {
      "text/html": [
       "<div>\n",
       "<style scoped>\n",
       "    .dataframe tbody tr th:only-of-type {\n",
       "        vertical-align: middle;\n",
       "    }\n",
       "\n",
       "    .dataframe tbody tr th {\n",
       "        vertical-align: top;\n",
       "    }\n",
       "\n",
       "    .dataframe thead th {\n",
       "        text-align: right;\n",
       "    }\n",
       "</style>\n",
       "<table border=\"1\" class=\"dataframe\">\n",
       "  <thead>\n",
       "    <tr style=\"text-align: right;\">\n",
       "      <th></th>\n",
       "      <th>Unnamed: 0</th>\n",
       "      <th>SeriousDlqin2yrs</th>\n",
       "      <th>RevolvingUtilizationOfUnsecuredLines</th>\n",
       "      <th>age</th>\n",
       "      <th>NumberOfTime30-59DaysPastDueNotWorse</th>\n",
       "      <th>DebtRatio</th>\n",
       "      <th>MonthlyIncome</th>\n",
       "      <th>NumberOfOpenCreditLinesAndLoans</th>\n",
       "      <th>NumberOfTimes90DaysLate</th>\n",
       "      <th>NumberRealEstateLoansOrLines</th>\n",
       "      <th>NumberOfTime60-89DaysPastDueNotWorse</th>\n",
       "      <th>NumberOfDependents</th>\n",
       "    </tr>\n",
       "  </thead>\n",
       "  <tbody>\n",
       "    <tr>\n",
       "      <th>6</th>\n",
       "      <td>7</td>\n",
       "      <td>0</td>\n",
       "      <td>0.305682</td>\n",
       "      <td>57</td>\n",
       "      <td>0</td>\n",
       "      <td>5710.0</td>\n",
       "      <td>NaN</td>\n",
       "      <td>8</td>\n",
       "      <td>0</td>\n",
       "      <td>3</td>\n",
       "      <td>0</td>\n",
       "      <td>0.0</td>\n",
       "    </tr>\n",
       "    <tr>\n",
       "      <th>8</th>\n",
       "      <td>9</td>\n",
       "      <td>0</td>\n",
       "      <td>0.116951</td>\n",
       "      <td>27</td>\n",
       "      <td>0</td>\n",
       "      <td>46.0</td>\n",
       "      <td>NaN</td>\n",
       "      <td>2</td>\n",
       "      <td>0</td>\n",
       "      <td>0</td>\n",
       "      <td>0</td>\n",
       "      <td>NaN</td>\n",
       "    </tr>\n",
       "    <tr>\n",
       "      <th>16</th>\n",
       "      <td>17</td>\n",
       "      <td>0</td>\n",
       "      <td>0.061086</td>\n",
       "      <td>78</td>\n",
       "      <td>0</td>\n",
       "      <td>2058.0</td>\n",
       "      <td>NaN</td>\n",
       "      <td>10</td>\n",
       "      <td>0</td>\n",
       "      <td>2</td>\n",
       "      <td>0</td>\n",
       "      <td>0.0</td>\n",
       "    </tr>\n",
       "    <tr>\n",
       "      <th>32</th>\n",
       "      <td>33</td>\n",
       "      <td>0</td>\n",
       "      <td>0.083418</td>\n",
       "      <td>62</td>\n",
       "      <td>0</td>\n",
       "      <td>977.0</td>\n",
       "      <td>NaN</td>\n",
       "      <td>6</td>\n",
       "      <td>0</td>\n",
       "      <td>1</td>\n",
       "      <td>0</td>\n",
       "      <td>0.0</td>\n",
       "    </tr>\n",
       "    <tr>\n",
       "      <th>41</th>\n",
       "      <td>42</td>\n",
       "      <td>0</td>\n",
       "      <td>0.072898</td>\n",
       "      <td>81</td>\n",
       "      <td>0</td>\n",
       "      <td>75.0</td>\n",
       "      <td>NaN</td>\n",
       "      <td>7</td>\n",
       "      <td>0</td>\n",
       "      <td>0</td>\n",
       "      <td>0</td>\n",
       "      <td>0.0</td>\n",
       "    </tr>\n",
       "    <tr>\n",
       "      <th>...</th>\n",
       "      <td>...</td>\n",
       "      <td>...</td>\n",
       "      <td>...</td>\n",
       "      <td>...</td>\n",
       "      <td>...</td>\n",
       "      <td>...</td>\n",
       "      <td>...</td>\n",
       "      <td>...</td>\n",
       "      <td>...</td>\n",
       "      <td>...</td>\n",
       "      <td>...</td>\n",
       "      <td>...</td>\n",
       "    </tr>\n",
       "    <tr>\n",
       "      <th>149976</th>\n",
       "      <td>149977</td>\n",
       "      <td>0</td>\n",
       "      <td>0.000627</td>\n",
       "      <td>76</td>\n",
       "      <td>0</td>\n",
       "      <td>60.0</td>\n",
       "      <td>NaN</td>\n",
       "      <td>5</td>\n",
       "      <td>0</td>\n",
       "      <td>0</td>\n",
       "      <td>0</td>\n",
       "      <td>0.0</td>\n",
       "    </tr>\n",
       "    <tr>\n",
       "      <th>149977</th>\n",
       "      <td>149978</td>\n",
       "      <td>0</td>\n",
       "      <td>0.236450</td>\n",
       "      <td>29</td>\n",
       "      <td>0</td>\n",
       "      <td>349.0</td>\n",
       "      <td>NaN</td>\n",
       "      <td>3</td>\n",
       "      <td>0</td>\n",
       "      <td>0</td>\n",
       "      <td>0</td>\n",
       "      <td>0.0</td>\n",
       "    </tr>\n",
       "    <tr>\n",
       "      <th>149984</th>\n",
       "      <td>149985</td>\n",
       "      <td>0</td>\n",
       "      <td>0.037548</td>\n",
       "      <td>84</td>\n",
       "      <td>0</td>\n",
       "      <td>25.0</td>\n",
       "      <td>NaN</td>\n",
       "      <td>5</td>\n",
       "      <td>0</td>\n",
       "      <td>0</td>\n",
       "      <td>0</td>\n",
       "      <td>0.0</td>\n",
       "    </tr>\n",
       "    <tr>\n",
       "      <th>149992</th>\n",
       "      <td>149993</td>\n",
       "      <td>0</td>\n",
       "      <td>0.871976</td>\n",
       "      <td>50</td>\n",
       "      <td>0</td>\n",
       "      <td>4132.0</td>\n",
       "      <td>NaN</td>\n",
       "      <td>11</td>\n",
       "      <td>0</td>\n",
       "      <td>1</td>\n",
       "      <td>0</td>\n",
       "      <td>3.0</td>\n",
       "    </tr>\n",
       "    <tr>\n",
       "      <th>149997</th>\n",
       "      <td>149998</td>\n",
       "      <td>0</td>\n",
       "      <td>0.246044</td>\n",
       "      <td>58</td>\n",
       "      <td>0</td>\n",
       "      <td>3870.0</td>\n",
       "      <td>NaN</td>\n",
       "      <td>18</td>\n",
       "      <td>0</td>\n",
       "      <td>1</td>\n",
       "      <td>0</td>\n",
       "      <td>0.0</td>\n",
       "    </tr>\n",
       "  </tbody>\n",
       "</table>\n",
       "<p>29731 rows × 12 columns</p>\n",
       "</div>"
      ],
      "text/plain": [
       "        Unnamed: 0  SeriousDlqin2yrs  RevolvingUtilizationOfUnsecuredLines  \\\n",
       "6                7                 0                              0.305682   \n",
       "8                9                 0                              0.116951   \n",
       "16              17                 0                              0.061086   \n",
       "32              33                 0                              0.083418   \n",
       "41              42                 0                              0.072898   \n",
       "...            ...               ...                                   ...   \n",
       "149976      149977                 0                              0.000627   \n",
       "149977      149978                 0                              0.236450   \n",
       "149984      149985                 0                              0.037548   \n",
       "149992      149993                 0                              0.871976   \n",
       "149997      149998                 0                              0.246044   \n",
       "\n",
       "        age  NumberOfTime30-59DaysPastDueNotWorse  DebtRatio  MonthlyIncome  \\\n",
       "6        57                                     0     5710.0            NaN   \n",
       "8        27                                     0       46.0            NaN   \n",
       "16       78                                     0     2058.0            NaN   \n",
       "32       62                                     0      977.0            NaN   \n",
       "41       81                                     0       75.0            NaN   \n",
       "...     ...                                   ...        ...            ...   \n",
       "149976   76                                     0       60.0            NaN   \n",
       "149977   29                                     0      349.0            NaN   \n",
       "149984   84                                     0       25.0            NaN   \n",
       "149992   50                                     0     4132.0            NaN   \n",
       "149997   58                                     0     3870.0            NaN   \n",
       "\n",
       "        NumberOfOpenCreditLinesAndLoans  NumberOfTimes90DaysLate  \\\n",
       "6                                     8                        0   \n",
       "8                                     2                        0   \n",
       "16                                   10                        0   \n",
       "32                                    6                        0   \n",
       "41                                    7                        0   \n",
       "...                                 ...                      ...   \n",
       "149976                                5                        0   \n",
       "149977                                3                        0   \n",
       "149984                                5                        0   \n",
       "149992                               11                        0   \n",
       "149997                               18                        0   \n",
       "\n",
       "        NumberRealEstateLoansOrLines  NumberOfTime60-89DaysPastDueNotWorse  \\\n",
       "6                                  3                                     0   \n",
       "8                                  0                                     0   \n",
       "16                                 2                                     0   \n",
       "32                                 1                                     0   \n",
       "41                                 0                                     0   \n",
       "...                              ...                                   ...   \n",
       "149976                             0                                     0   \n",
       "149977                             0                                     0   \n",
       "149984                             0                                     0   \n",
       "149992                             1                                     0   \n",
       "149997                             1                                     0   \n",
       "\n",
       "        NumberOfDependents  \n",
       "6                      0.0  \n",
       "8                      NaN  \n",
       "16                     0.0  \n",
       "32                     0.0  \n",
       "41                     0.0  \n",
       "...                    ...  \n",
       "149976                 0.0  \n",
       "149977                 0.0  \n",
       "149984                 0.0  \n",
       "149992                 3.0  \n",
       "149997                 0.0  \n",
       "\n",
       "[29731 rows x 12 columns]"
      ]
     },
     "execution_count": 22,
     "metadata": {},
     "output_type": "execute_result"
    }
   ],
   "source": [
    "train.loc[train.MonthlyIncome.isnull()]"
   ]
  },
  {
   "cell_type": "code",
   "execution_count": 23,
   "metadata": {},
   "outputs": [
    {
     "data": {
      "text/plain": [
       "1669"
      ]
     },
     "execution_count": 23,
     "metadata": {},
     "output_type": "execute_result"
    }
   ],
   "source": [
    "train.loc[train.MonthlyIncome.isnull(), 'SeriousDlqin2yrs'].sum()"
   ]
  },
  {
   "cell_type": "code",
   "execution_count": 24,
   "metadata": {},
   "outputs": [],
   "source": [
    "#Fill none value with mean value\n",
    "train['MonthlyIncome'] = train['MonthlyIncome'].fillna(train['MonthlyIncome'].mean())"
   ]
  },
  {
   "cell_type": "markdown",
   "metadata": {},
   "source": [
    "2.7 NumberOfOpenCreditLinesAndLoans"
   ]
  },
  {
   "cell_type": "code",
   "execution_count": 25,
   "metadata": {},
   "outputs": [
    {
     "name": "stderr",
     "output_type": "stream",
     "text": [
      "/Users/linkeke/opt/anaconda3/lib/python3.8/site-packages/seaborn/distributions.py:2551: FutureWarning: `distplot` is a deprecated function and will be removed in a future version. Please adapt your code to use either `displot` (a figure-level function with similar flexibility) or `histplot` (an axes-level function for histograms).\n",
      "  warnings.warn(msg, FutureWarning)\n"
     ]
    },
    {
     "data": {
      "text/plain": [
       "<AxesSubplot:xlabel='NumberOfOpenCreditLinesAndLoans', ylabel='Density'>"
      ]
     },
     "execution_count": 25,
     "metadata": {},
     "output_type": "execute_result"
    },
    {
     "data": {
      "image/png": "[encoded data removed]",
      "text/plain": [
       "<Figure size 432x288 with 1 Axes>"
      ]
     },
     "metadata": {},
     "output_type": "display_data"
    }
   ],
   "source": [
    "sns.distplot(train.NumberOfOpenCreditLinesAndLoans)"
   ]
  },
  {
   "cell_type": "code",
   "execution_count": 26,
   "metadata": {},
   "outputs": [
    {
     "name": "stderr",
     "output_type": "stream",
     "text": [
      "/Users/linkeke/opt/anaconda3/lib/python3.8/site-packages/seaborn/distributions.py:2551: FutureWarning: `distplot` is a deprecated function and will be removed in a future version. Please adapt your code to use either `displot` (a figure-level function with similar flexibility) or `histplot` (an axes-level function for histograms).\n",
      "  warnings.warn(msg, FutureWarning)\n",
      "/Users/linkeke/opt/anaconda3/lib/python3.8/site-packages/seaborn/distributions.py:2551: FutureWarning: `distplot` is a deprecated function and will be removed in a future version. Please adapt your code to use either `displot` (a figure-level function with similar flexibility) or `histplot` (an axes-level function for histograms).\n",
      "  warnings.warn(msg, FutureWarning)\n"
     ]
    },
    {
     "data": {
      "text/plain": [
       "<seaborn.axisgrid.FacetGrid at 0x7fd860e1dee0>"
      ]
     },
     "execution_count": 26,
     "metadata": {},
     "output_type": "execute_result"
    },
    {
     "data": {
      "image/png": "[encoded data removed]",
      "text/plain": [
       "<Figure size 432x216 with 2 Axes>"
      ]
     },
     "metadata": {},
     "output_type": "display_data"
    }
   ],
   "source": [
    "g = sns.FacetGrid(train, col='SeriousDlqin2yrs')\n",
    "g.map(sns.distplot,'NumberOfOpenCreditLinesAndLoans')"
   ]
  },
  {
   "cell_type": "markdown",
   "metadata": {},
   "source": [
    "2.8 NumberOfTimes90DaysLate"
   ]
  },
  {
   "cell_type": "code",
   "execution_count": 27,
   "metadata": {},
   "outputs": [
    {
     "name": "stderr",
     "output_type": "stream",
     "text": [
      "/Users/linkeke/opt/anaconda3/lib/python3.8/site-packages/seaborn/_decorators.py:36: FutureWarning: Pass the following variable as a keyword arg: x. From version 0.12, the only valid positional argument will be `data`, and passing other arguments without an explicit keyword will result in an error or misinterpretation.\n",
      "  warnings.warn(\n"
     ]
    },
    {
     "data": {
      "text/plain": [
       "<AxesSubplot:xlabel='NumberOfTimes90DaysLate', ylabel='count'>"
      ]
     },
     "execution_count": 27,
     "metadata": {},
     "output_type": "execute_result"
    },
    {
     "data": {
      "image/png": "[encoded data removed]",
      "text/plain": [
       "<Figure size 432x288 with 1 Axes>"
      ]
     },
     "metadata": {},
     "output_type": "display_data"
    }
   ],
   "source": [
    "sns.countplot(train.NumberOfTimes90DaysLate)"
   ]
  },
  {
   "cell_type": "code",
   "execution_count": 28,
   "metadata": {},
   "outputs": [
    {
     "name": "stderr",
     "output_type": "stream",
     "text": [
      "/Users/linkeke/opt/anaconda3/lib/python3.8/site-packages/seaborn/axisgrid.py:645: UserWarning: Using the countplot function without specifying `order` is likely to produce an incorrect plot.\n",
      "  warnings.warn(warning)\n"
     ]
    },
    {
     "data": {
      "text/plain": [
       "<seaborn.axisgrid.FacetGrid at 0x7fd860eb1fa0>"
      ]
     },
     "execution_count": 28,
     "metadata": {},
     "output_type": "execute_result"
    },
    {
     "data": {
      "image/png": "[encoded data removed]",
      "text/plain": [
       "<Figure size 432x216 with 2 Axes>"
      ]
     },
     "metadata": {},
     "output_type": "display_data"
    }
   ],
   "source": [
    "g = sns.FacetGrid(train, col='SeriousDlqin2yrs')\n",
    "g.map(sns.countplot, 'NumberOfTimes90DaysLate')"
   ]
  },
  {
   "cell_type": "code",
   "execution_count": 29,
   "metadata": {},
   "outputs": [
    {
     "data": {
      "text/html": [
       "<div>\n",
       "<style scoped>\n",
       "    .dataframe tbody tr th:only-of-type {\n",
       "        vertical-align: middle;\n",
       "    }\n",
       "\n",
       "    .dataframe tbody tr th {\n",
       "        vertical-align: top;\n",
       "    }\n",
       "\n",
       "    .dataframe thead th {\n",
       "        text-align: right;\n",
       "    }\n",
       "</style>\n",
       "<table border=\"1\" class=\"dataframe\">\n",
       "  <thead>\n",
       "    <tr style=\"text-align: right;\">\n",
       "      <th></th>\n",
       "      <th>Unnamed: 0</th>\n",
       "      <th>SeriousDlqin2yrs</th>\n",
       "      <th>RevolvingUtilizationOfUnsecuredLines</th>\n",
       "      <th>age</th>\n",
       "      <th>NumberOfTime30-59DaysPastDueNotWorse</th>\n",
       "      <th>DebtRatio</th>\n",
       "      <th>MonthlyIncome</th>\n",
       "      <th>NumberOfOpenCreditLinesAndLoans</th>\n",
       "      <th>NumberOfTimes90DaysLate</th>\n",
       "      <th>NumberRealEstateLoansOrLines</th>\n",
       "      <th>NumberOfTime60-89DaysPastDueNotWorse</th>\n",
       "      <th>NumberOfDependents</th>\n",
       "    </tr>\n",
       "  </thead>\n",
       "  <tbody>\n",
       "    <tr>\n",
       "      <th>2</th>\n",
       "      <td>3</td>\n",
       "      <td>0</td>\n",
       "      <td>0.658180</td>\n",
       "      <td>38</td>\n",
       "      <td>1</td>\n",
       "      <td>0.085113</td>\n",
       "      <td>3042.0</td>\n",
       "      <td>2</td>\n",
       "      <td>1</td>\n",
       "      <td>0</td>\n",
       "      <td>0</td>\n",
       "      <td>0.0</td>\n",
       "    </tr>\n",
       "    <tr>\n",
       "      <th>13</th>\n",
       "      <td>14</td>\n",
       "      <td>1</td>\n",
       "      <td>0.964673</td>\n",
       "      <td>40</td>\n",
       "      <td>3</td>\n",
       "      <td>0.382965</td>\n",
       "      <td>13700.0</td>\n",
       "      <td>9</td>\n",
       "      <td>3</td>\n",
       "      <td>1</td>\n",
       "      <td>1</td>\n",
       "      <td>2.0</td>\n",
       "    </tr>\n",
       "    <tr>\n",
       "      <th>49</th>\n",
       "      <td>50</td>\n",
       "      <td>0</td>\n",
       "      <td>0.000080</td>\n",
       "      <td>70</td>\n",
       "      <td>0</td>\n",
       "      <td>0.256340</td>\n",
       "      <td>6900.0</td>\n",
       "      <td>21</td>\n",
       "      <td>1</td>\n",
       "      <td>1</td>\n",
       "      <td>0</td>\n",
       "      <td>0.0</td>\n",
       "    </tr>\n",
       "    <tr>\n",
       "      <th>68</th>\n",
       "      <td>69</td>\n",
       "      <td>0</td>\n",
       "      <td>0.004264</td>\n",
       "      <td>31</td>\n",
       "      <td>0</td>\n",
       "      <td>0.111444</td>\n",
       "      <td>2000.0</td>\n",
       "      <td>6</td>\n",
       "      <td>1</td>\n",
       "      <td>0</td>\n",
       "      <td>0</td>\n",
       "      <td>2.0</td>\n",
       "    </tr>\n",
       "    <tr>\n",
       "      <th>72</th>\n",
       "      <td>73</td>\n",
       "      <td>0</td>\n",
       "      <td>0.827708</td>\n",
       "      <td>56</td>\n",
       "      <td>0</td>\n",
       "      <td>0.369591</td>\n",
       "      <td>6793.0</td>\n",
       "      <td>15</td>\n",
       "      <td>1</td>\n",
       "      <td>1</td>\n",
       "      <td>0</td>\n",
       "      <td>0.0</td>\n",
       "    </tr>\n",
       "    <tr>\n",
       "      <th>...</th>\n",
       "      <td>...</td>\n",
       "      <td>...</td>\n",
       "      <td>...</td>\n",
       "      <td>...</td>\n",
       "      <td>...</td>\n",
       "      <td>...</td>\n",
       "      <td>...</td>\n",
       "      <td>...</td>\n",
       "      <td>...</td>\n",
       "      <td>...</td>\n",
       "      <td>...</td>\n",
       "      <td>...</td>\n",
       "    </tr>\n",
       "    <tr>\n",
       "      <th>149954</th>\n",
       "      <td>149955</td>\n",
       "      <td>1</td>\n",
       "      <td>1.000000</td>\n",
       "      <td>46</td>\n",
       "      <td>0</td>\n",
       "      <td>170.398010</td>\n",
       "      <td>401.0</td>\n",
       "      <td>3</td>\n",
       "      <td>2</td>\n",
       "      <td>0</td>\n",
       "      <td>0</td>\n",
       "      <td>2.0</td>\n",
       "    </tr>\n",
       "    <tr>\n",
       "      <th>149961</th>\n",
       "      <td>149962</td>\n",
       "      <td>1</td>\n",
       "      <td>0.920107</td>\n",
       "      <td>31</td>\n",
       "      <td>1</td>\n",
       "      <td>0.176732</td>\n",
       "      <td>1125.0</td>\n",
       "      <td>4</td>\n",
       "      <td>1</td>\n",
       "      <td>0</td>\n",
       "      <td>0</td>\n",
       "      <td>0.0</td>\n",
       "    </tr>\n",
       "    <tr>\n",
       "      <th>149962</th>\n",
       "      <td>149963</td>\n",
       "      <td>0</td>\n",
       "      <td>1.005733</td>\n",
       "      <td>48</td>\n",
       "      <td>0</td>\n",
       "      <td>0.248896</td>\n",
       "      <td>2944.0</td>\n",
       "      <td>4</td>\n",
       "      <td>3</td>\n",
       "      <td>0</td>\n",
       "      <td>0</td>\n",
       "      <td>1.0</td>\n",
       "    </tr>\n",
       "    <tr>\n",
       "      <th>149968</th>\n",
       "      <td>149969</td>\n",
       "      <td>1</td>\n",
       "      <td>0.983825</td>\n",
       "      <td>55</td>\n",
       "      <td>0</td>\n",
       "      <td>0.064116</td>\n",
       "      <td>4600.0</td>\n",
       "      <td>2</td>\n",
       "      <td>1</td>\n",
       "      <td>0</td>\n",
       "      <td>0</td>\n",
       "      <td>6.0</td>\n",
       "    </tr>\n",
       "    <tr>\n",
       "      <th>149987</th>\n",
       "      <td>149988</td>\n",
       "      <td>0</td>\n",
       "      <td>1.000000</td>\n",
       "      <td>28</td>\n",
       "      <td>0</td>\n",
       "      <td>0.055692</td>\n",
       "      <td>3249.0</td>\n",
       "      <td>3</td>\n",
       "      <td>1</td>\n",
       "      <td>0</td>\n",
       "      <td>0</td>\n",
       "      <td>0.0</td>\n",
       "    </tr>\n",
       "  </tbody>\n",
       "</table>\n",
       "<p>6452 rows × 12 columns</p>\n",
       "</div>"
      ],
      "text/plain": [
       "        Unnamed: 0  SeriousDlqin2yrs  RevolvingUtilizationOfUnsecuredLines  \\\n",
       "2                3                 0                              0.658180   \n",
       "13              14                 1                              0.964673   \n",
       "49              50                 0                              0.000080   \n",
       "68              69                 0                              0.004264   \n",
       "72              73                 0                              0.827708   \n",
       "...            ...               ...                                   ...   \n",
       "149954      149955                 1                              1.000000   \n",
       "149961      149962                 1                              0.920107   \n",
       "149962      149963                 0                              1.005733   \n",
       "149968      149969                 1                              0.983825   \n",
       "149987      149988                 0                              1.000000   \n",
       "\n",
       "        age  NumberOfTime30-59DaysPastDueNotWorse   DebtRatio  MonthlyIncome  \\\n",
       "2        38                                     1    0.085113         3042.0   \n",
       "13       40                                     3    0.382965        13700.0   \n",
       "49       70                                     0    0.256340         6900.0   \n",
       "68       31                                     0    0.111444         2000.0   \n",
       "72       56                                     0    0.369591         6793.0   \n",
       "...     ...                                   ...         ...            ...   \n",
       "149954   46                                     0  170.398010          401.0   \n",
       "149961   31                                     1    0.176732         1125.0   \n",
       "149962   48                                     0    0.248896         2944.0   \n",
       "149968   55                                     0    0.064116         4600.0   \n",
       "149987   28                                     0    0.055692         3249.0   \n",
       "\n",
       "        NumberOfOpenCreditLinesAndLoans  NumberOfTimes90DaysLate  \\\n",
       "2                                     2                        1   \n",
       "13                                    9                        3   \n",
       "49                                   21                        1   \n",
       "68                                    6                        1   \n",
       "72                                   15                        1   \n",
       "...                                 ...                      ...   \n",
       "149954                                3                        2   \n",
       "149961                                4                        1   \n",
       "149962                                4                        3   \n",
       "149968                                2                        1   \n",
       "149987                                3                        1   \n",
       "\n",
       "        NumberRealEstateLoansOrLines  NumberOfTime60-89DaysPastDueNotWorse  \\\n",
       "2                                  0                                     0   \n",
       "13                                 1                                     1   \n",
       "49                                 1                                     0   \n",
       "68                                 0                                     0   \n",
       "72                                 1                                     0   \n",
       "...                              ...                                   ...   \n",
       "149954                             0                                     0   \n",
       "149961                             0                                     0   \n",
       "149962                             0                                     0   \n",
       "149968                             0                                     0   \n",
       "149987                             0                                     0   \n",
       "\n",
       "        NumberOfDependents  \n",
       "2                      0.0  \n",
       "13                     2.0  \n",
       "49                     0.0  \n",
       "68                     2.0  \n",
       "72                     0.0  \n",
       "...                    ...  \n",
       "149954                 2.0  \n",
       "149961                 0.0  \n",
       "149962                 1.0  \n",
       "149968                 6.0  \n",
       "149987                 0.0  \n",
       "\n",
       "[6452 rows x 12 columns]"
      ]
     },
     "execution_count": 29,
     "metadata": {},
     "output_type": "execute_result"
    }
   ],
   "source": [
    "train.loc[train.NumberOfTimes90DaysLate > train['NumberOfTime60-89DaysPastDueNotWorse']]"
   ]
  },
  {
   "cell_type": "markdown",
   "metadata": {},
   "source": [
    "2.9 NumberRealEstateLoansOrLines"
   ]
  },
  {
   "cell_type": "code",
   "execution_count": 30,
   "metadata": {},
   "outputs": [
    {
     "name": "stderr",
     "output_type": "stream",
     "text": [
      "/Users/linkeke/opt/anaconda3/lib/python3.8/site-packages/seaborn/_decorators.py:36: FutureWarning: Pass the following variable as a keyword arg: x. From version 0.12, the only valid positional argument will be `data`, and passing other arguments without an explicit keyword will result in an error or misinterpretation.\n",
      "  warnings.warn(\n"
     ]
    },
    {
     "data": {
      "text/plain": [
       "<AxesSubplot:xlabel='NumberRealEstateLoansOrLines', ylabel='count'>"
      ]
     },
     "execution_count": 30,
     "metadata": {},
     "output_type": "execute_result"
    },
    {
     "data": {
      "image/png": "[encoded data removed]",
      "text/plain": [
       "<Figure size 432x288 with 1 Axes>"
      ]
     },
     "metadata": {},
     "output_type": "display_data"
    }
   ],
   "source": [
    "sns.countplot(train.NumberRealEstateLoansOrLines)"
   ]
  },
  {
   "cell_type": "code",
   "execution_count": 31,
   "metadata": {},
   "outputs": [
    {
     "name": "stderr",
     "output_type": "stream",
     "text": [
      "/Users/linkeke/opt/anaconda3/lib/python3.8/site-packages/seaborn/axisgrid.py:645: UserWarning: Using the countplot function without specifying `order` is likely to produce an incorrect plot.\n",
      "  warnings.warn(warning)\n"
     ]
    },
    {
     "data": {
      "text/plain": [
       "<seaborn.axisgrid.FacetGrid at 0x7fd8603ea3a0>"
      ]
     },
     "execution_count": 31,
     "metadata": {},
     "output_type": "execute_result"
    },
    {
     "data": {
      "image/png": "[encoded data removed]",
      "text/plain": [
       "<Figure size 432x216 with 2 Axes>"
      ]
     },
     "metadata": {},
     "output_type": "display_data"
    }
   ],
   "source": [
    "g = sns.FacetGrid(train, col='SeriousDlqin2yrs')\n",
    "g.map(sns.countplot, 'NumberRealEstateLoansOrLines')"
   ]
  },
  {
   "cell_type": "markdown",
   "metadata": {},
   "source": []
  },
  {
   "cell_type": "code",
   "execution_count": 32,
   "metadata": {},
   "outputs": [
    {
     "name": "stderr",
     "output_type": "stream",
     "text": [
      "/Users/linkeke/opt/anaconda3/lib/python3.8/site-packages/seaborn/_decorators.py:36: FutureWarning: Pass the following variable as a keyword arg: x. From version 0.12, the only valid positional argument will be `data`, and passing other arguments without an explicit keyword will result in an error or misinterpretation.\n",
      "  warnings.warn(\n"
     ]
    },
    {
     "data": {
      "text/plain": [
       "<AxesSubplot:xlabel='NumberOfTime60-89DaysPastDueNotWorse', ylabel='count'>"
      ]
     },
     "execution_count": 32,
     "metadata": {},
     "output_type": "execute_result"
    },
    {
     "data": {
      "image/png": "[encoded data removed]",
      "text/plain": [
       "<Figure size 432x288 with 1 Axes>"
      ]
     },
     "metadata": {},
     "output_type": "display_data"
    }
   ],
   "source": [
    "sns.countplot(train['NumberOfTime60-89DaysPastDueNotWorse'])"
   ]
  },
  {
   "cell_type": "code",
   "execution_count": 33,
   "metadata": {},
   "outputs": [
    {
     "name": "stderr",
     "output_type": "stream",
     "text": [
      "/Users/linkeke/opt/anaconda3/lib/python3.8/site-packages/seaborn/axisgrid.py:645: UserWarning: Using the countplot function without specifying `order` is likely to produce an incorrect plot.\n",
      "  warnings.warn(warning)\n"
     ]
    },
    {
     "data": {
      "text/plain": [
       "<seaborn.axisgrid.FacetGrid at 0x7fd8471f36a0>"
      ]
     },
     "execution_count": 33,
     "metadata": {},
     "output_type": "execute_result"
    },
    {
     "data": {
      "image/png": "[encoded data removed]",
      "text/plain": [
       "<Figure size 432x216 with 2 Axes>"
      ]
     },
     "metadata": {},
     "output_type": "display_data"
    }
   ],
   "source": [
    "g = sns.FacetGrid(train, col='SeriousDlqin2yrs')\n",
    "g.map(sns.countplot, 'NumberOfTime60-89DaysPastDueNotWorse')"
   ]
  },
  {
   "cell_type": "code",
   "execution_count": 34,
   "metadata": {},
   "outputs": [
    {
     "data": {
      "text/html": [
       "<div>\n",
       "<style scoped>\n",
       "    .dataframe tbody tr th:only-of-type {\n",
       "        vertical-align: middle;\n",
       "    }\n",
       "\n",
       "    .dataframe tbody tr th {\n",
       "        vertical-align: top;\n",
       "    }\n",
       "\n",
       "    .dataframe thead th {\n",
       "        text-align: right;\n",
       "    }\n",
       "</style>\n",
       "<table border=\"1\" class=\"dataframe\">\n",
       "  <thead>\n",
       "    <tr style=\"text-align: right;\">\n",
       "      <th></th>\n",
       "      <th>Unnamed: 0</th>\n",
       "      <th>SeriousDlqin2yrs</th>\n",
       "      <th>RevolvingUtilizationOfUnsecuredLines</th>\n",
       "      <th>age</th>\n",
       "      <th>NumberOfTime30-59DaysPastDueNotWorse</th>\n",
       "      <th>DebtRatio</th>\n",
       "      <th>MonthlyIncome</th>\n",
       "      <th>NumberOfOpenCreditLinesAndLoans</th>\n",
       "      <th>NumberOfTimes90DaysLate</th>\n",
       "      <th>NumberRealEstateLoansOrLines</th>\n",
       "      <th>NumberOfTime60-89DaysPastDueNotWorse</th>\n",
       "      <th>NumberOfDependents</th>\n",
       "    </tr>\n",
       "  </thead>\n",
       "  <tbody>\n",
       "    <tr>\n",
       "      <th>50</th>\n",
       "      <td>51</td>\n",
       "      <td>0</td>\n",
       "      <td>0.818978</td>\n",
       "      <td>73</td>\n",
       "      <td>0</td>\n",
       "      <td>3095.000000</td>\n",
       "      <td>0.000000</td>\n",
       "      <td>9</td>\n",
       "      <td>0</td>\n",
       "      <td>1</td>\n",
       "      <td>1</td>\n",
       "      <td>0.0</td>\n",
       "    </tr>\n",
       "    <tr>\n",
       "      <th>87</th>\n",
       "      <td>88</td>\n",
       "      <td>0</td>\n",
       "      <td>0.003750</td>\n",
       "      <td>64</td>\n",
       "      <td>0</td>\n",
       "      <td>0.004061</td>\n",
       "      <td>3200.000000</td>\n",
       "      <td>5</td>\n",
       "      <td>0</td>\n",
       "      <td>0</td>\n",
       "      <td>1</td>\n",
       "      <td>0.0</td>\n",
       "    </tr>\n",
       "    <tr>\n",
       "      <th>92</th>\n",
       "      <td>93</td>\n",
       "      <td>0</td>\n",
       "      <td>0.784836</td>\n",
       "      <td>52</td>\n",
       "      <td>0</td>\n",
       "      <td>2662.000000</td>\n",
       "      <td>6670.221237</td>\n",
       "      <td>10</td>\n",
       "      <td>0</td>\n",
       "      <td>2</td>\n",
       "      <td>1</td>\n",
       "      <td>0.0</td>\n",
       "    </tr>\n",
       "    <tr>\n",
       "      <th>95</th>\n",
       "      <td>96</td>\n",
       "      <td>0</td>\n",
       "      <td>0.245353</td>\n",
       "      <td>37</td>\n",
       "      <td>0</td>\n",
       "      <td>0.288417</td>\n",
       "      <td>6500.000000</td>\n",
       "      <td>11</td>\n",
       "      <td>1</td>\n",
       "      <td>1</td>\n",
       "      <td>1</td>\n",
       "      <td>0.0</td>\n",
       "    </tr>\n",
       "    <tr>\n",
       "      <th>123</th>\n",
       "      <td>124</td>\n",
       "      <td>0</td>\n",
       "      <td>0.444838</td>\n",
       "      <td>58</td>\n",
       "      <td>0</td>\n",
       "      <td>0.366545</td>\n",
       "      <td>14000.000000</td>\n",
       "      <td>9</td>\n",
       "      <td>0</td>\n",
       "      <td>2</td>\n",
       "      <td>1</td>\n",
       "      <td>4.0</td>\n",
       "    </tr>\n",
       "    <tr>\n",
       "      <th>...</th>\n",
       "      <td>...</td>\n",
       "      <td>...</td>\n",
       "      <td>...</td>\n",
       "      <td>...</td>\n",
       "      <td>...</td>\n",
       "      <td>...</td>\n",
       "      <td>...</td>\n",
       "      <td>...</td>\n",
       "      <td>...</td>\n",
       "      <td>...</td>\n",
       "      <td>...</td>\n",
       "      <td>...</td>\n",
       "    </tr>\n",
       "    <tr>\n",
       "      <th>149894</th>\n",
       "      <td>149895</td>\n",
       "      <td>0</td>\n",
       "      <td>0.017904</td>\n",
       "      <td>55</td>\n",
       "      <td>0</td>\n",
       "      <td>1058.000000</td>\n",
       "      <td>6670.221237</td>\n",
       "      <td>8</td>\n",
       "      <td>0</td>\n",
       "      <td>1</td>\n",
       "      <td>1</td>\n",
       "      <td>NaN</td>\n",
       "    </tr>\n",
       "    <tr>\n",
       "      <th>149910</th>\n",
       "      <td>149911</td>\n",
       "      <td>0</td>\n",
       "      <td>0.117427</td>\n",
       "      <td>39</td>\n",
       "      <td>0</td>\n",
       "      <td>0.122474</td>\n",
       "      <td>4800.000000</td>\n",
       "      <td>11</td>\n",
       "      <td>0</td>\n",
       "      <td>0</td>\n",
       "      <td>1</td>\n",
       "      <td>2.0</td>\n",
       "    </tr>\n",
       "    <tr>\n",
       "      <th>149935</th>\n",
       "      <td>149936</td>\n",
       "      <td>0</td>\n",
       "      <td>1.000000</td>\n",
       "      <td>61</td>\n",
       "      <td>0</td>\n",
       "      <td>5.000000</td>\n",
       "      <td>6670.221237</td>\n",
       "      <td>1</td>\n",
       "      <td>0</td>\n",
       "      <td>0</td>\n",
       "      <td>1</td>\n",
       "      <td>0.0</td>\n",
       "    </tr>\n",
       "    <tr>\n",
       "      <th>149939</th>\n",
       "      <td>149940</td>\n",
       "      <td>0</td>\n",
       "      <td>1.049900</td>\n",
       "      <td>26</td>\n",
       "      <td>0</td>\n",
       "      <td>0.073220</td>\n",
       "      <td>6500.000000</td>\n",
       "      <td>6</td>\n",
       "      <td>0</td>\n",
       "      <td>0</td>\n",
       "      <td>1</td>\n",
       "      <td>0.0</td>\n",
       "    </tr>\n",
       "    <tr>\n",
       "      <th>149967</th>\n",
       "      <td>149968</td>\n",
       "      <td>0</td>\n",
       "      <td>0.977899</td>\n",
       "      <td>63</td>\n",
       "      <td>0</td>\n",
       "      <td>517.000000</td>\n",
       "      <td>6670.221237</td>\n",
       "      <td>5</td>\n",
       "      <td>0</td>\n",
       "      <td>0</td>\n",
       "      <td>1</td>\n",
       "      <td>0.0</td>\n",
       "    </tr>\n",
       "  </tbody>\n",
       "</table>\n",
       "<p>4038 rows × 12 columns</p>\n",
       "</div>"
      ],
      "text/plain": [
       "        Unnamed: 0  SeriousDlqin2yrs  RevolvingUtilizationOfUnsecuredLines  \\\n",
       "50              51                 0                              0.818978   \n",
       "87              88                 0                              0.003750   \n",
       "92              93                 0                              0.784836   \n",
       "95              96                 0                              0.245353   \n",
       "123            124                 0                              0.444838   \n",
       "...            ...               ...                                   ...   \n",
       "149894      149895                 0                              0.017904   \n",
       "149910      149911                 0                              0.117427   \n",
       "149935      149936                 0                              1.000000   \n",
       "149939      149940                 0                              1.049900   \n",
       "149967      149968                 0                              0.977899   \n",
       "\n",
       "        age  NumberOfTime30-59DaysPastDueNotWorse    DebtRatio  MonthlyIncome  \\\n",
       "50       73                                     0  3095.000000       0.000000   \n",
       "87       64                                     0     0.004061    3200.000000   \n",
       "92       52                                     0  2662.000000    6670.221237   \n",
       "95       37                                     0     0.288417    6500.000000   \n",
       "123      58                                     0     0.366545   14000.000000   \n",
       "...     ...                                   ...          ...            ...   \n",
       "149894   55                                     0  1058.000000    6670.221237   \n",
       "149910   39                                     0     0.122474    4800.000000   \n",
       "149935   61                                     0     5.000000    6670.221237   \n",
       "149939   26                                     0     0.073220    6500.000000   \n",
       "149967   63                                     0   517.000000    6670.221237   \n",
       "\n",
       "        NumberOfOpenCreditLinesAndLoans  NumberOfTimes90DaysLate  \\\n",
       "50                                    9                        0   \n",
       "87                                    5                        0   \n",
       "92                                   10                        0   \n",
       "95                                   11                        1   \n",
       "123                                   9                        0   \n",
       "...                                 ...                      ...   \n",
       "149894                                8                        0   \n",
       "149910                               11                        0   \n",
       "149935                                1                        0   \n",
       "149939                                6                        0   \n",
       "149967                                5                        0   \n",
       "\n",
       "        NumberRealEstateLoansOrLines  NumberOfTime60-89DaysPastDueNotWorse  \\\n",
       "50                                 1                                     1   \n",
       "87                                 0                                     1   \n",
       "92                                 2                                     1   \n",
       "95                                 1                                     1   \n",
       "123                                2                                     1   \n",
       "...                              ...                                   ...   \n",
       "149894                             1                                     1   \n",
       "149910                             0                                     1   \n",
       "149935                             0                                     1   \n",
       "149939                             0                                     1   \n",
       "149967                             0                                     1   \n",
       "\n",
       "        NumberOfDependents  \n",
       "50                     0.0  \n",
       "87                     0.0  \n",
       "92                     0.0  \n",
       "95                     0.0  \n",
       "123                    4.0  \n",
       "...                    ...  \n",
       "149894                 NaN  \n",
       "149910                 2.0  \n",
       "149935                 0.0  \n",
       "149939                 0.0  \n",
       "149967                 0.0  \n",
       "\n",
       "[4038 rows x 12 columns]"
      ]
     },
     "execution_count": 34,
     "metadata": {},
     "output_type": "execute_result"
    }
   ],
   "source": [
    "\n",
    "train.loc[train['NumberOfTime60-89DaysPastDueNotWorse'] > train['NumberOfTime30-59DaysPastDueNotWorse']  ]"
   ]
  },
  {
   "cell_type": "code",
   "execution_count": 35,
   "metadata": {},
   "outputs": [],
   "source": [
    "train.loc[train['NumberOfTime60-89DaysPastDueNotWorse']>15, 'NumberOfTime60-89DaysPastDueNotWorse'] = 15"
   ]
  },
  {
   "cell_type": "markdown",
   "metadata": {},
   "source": [
    "2.11 NumberOfDependents"
   ]
  },
  {
   "cell_type": "code",
   "execution_count": 36,
   "metadata": {},
   "outputs": [
    {
     "name": "stderr",
     "output_type": "stream",
     "text": [
      "/Users/linkeke/opt/anaconda3/lib/python3.8/site-packages/seaborn/axisgrid.py:645: UserWarning: Using the boxplot function without specifying `order` is likely to produce an incorrect plot.\n",
      "  warnings.warn(warning)\n"
     ]
    },
    {
     "data": {
      "text/plain": [
       "<seaborn.axisgrid.FacetGrid at 0x7fd84712ae50>"
      ]
     },
     "execution_count": 36,
     "metadata": {},
     "output_type": "execute_result"
    },
    {
     "data": {
      "image/png": "[encoded data removed]",
      "text/plain": [
       "<Figure size 432x216 with 2 Axes>"
      ]
     },
     "metadata": {},
     "output_type": "display_data"
    }
   ],
   "source": [
    "g = sns.FacetGrid(train, col='SeriousDlqin2yrs')\n",
    "g.map(sns.boxplot, 'NumberOfDependents')"
   ]
  },
  {
   "cell_type": "code",
   "execution_count": 37,
   "metadata": {},
   "outputs": [],
   "source": [
    "train['NumberOfDependents'] = train['NumberOfDependents'].fillna(0)"
   ]
  },
  {
   "cell_type": "markdown",
   "metadata": {},
   "source": [
    "2.11 Correlation Analysis"
   ]
  },
  {
   "cell_type": "code",
   "execution_count": 38,
   "metadata": {},
   "outputs": [
    {
     "data": {
      "text/plain": [
       "<AxesSubplot:>"
      ]
     },
     "execution_count": 38,
     "metadata": {},
     "output_type": "execute_result"
    },
    {
     "data": {
      "image/png": "[encoded data removed]",
      "text/plain": [
       "<Figure size 432x288 with 2 Axes>"
      ]
     },
     "metadata": {},
     "output_type": "display_data"
    }
   ],
   "source": [
    "sns.heatmap(train.corr(),cmap=\"coolwarm\",annot=False)"
   ]
  },
  {
   "cell_type": "markdown",
   "metadata": {},
   "source": [
    "3 Model"
   ]
  },
  {
   "cell_type": "code",
   "execution_count": 39,
   "metadata": {},
   "outputs": [],
   "source": [
    "train_X = train[train.columns[2:]]\n",
    "train_y = train[train.columns[1]]\n",
    "train_X, val_X, train_y, val_y = train_test_split(train_X, train_y, test_size=0.1,  random_state=42, stratify=train_y)"
   ]
  },
  {
   "cell_type": "code",
   "execution_count": 40,
   "metadata": {},
   "outputs": [
    {
     "name": "stdout",
     "output_type": "stream",
     "text": [
      "<class 'pandas.core.frame.DataFrame'>\n",
      "Int64Index: 15000 entries, 108706 to 6713\n",
      "Data columns (total 10 columns):\n",
      " #   Column                                Non-Null Count  Dtype  \n",
      "---  ------                                --------------  -----  \n",
      " 0   RevolvingUtilizationOfUnsecuredLines  15000 non-null  float64\n",
      " 1   age                                   15000 non-null  int64  \n",
      " 2   NumberOfTime30-59DaysPastDueNotWorse  15000 non-null  int64  \n",
      " 3   DebtRatio                             15000 non-null  float64\n",
      " 4   MonthlyIncome                         15000 non-null  float64\n",
      " 5   NumberOfOpenCreditLinesAndLoans       15000 non-null  int64  \n",
      " 6   NumberOfTimes90DaysLate               15000 non-null  int64  \n",
      " 7   NumberRealEstateLoansOrLines          15000 non-null  int64  \n",
      " 8   NumberOfTime60-89DaysPastDueNotWorse  15000 non-null  int64  \n",
      " 9   NumberOfDependents                    15000 non-null  float64\n",
      "dtypes: float64(4), int64(6)\n",
      "memory usage: 1.3 MB\n"
     ]
    }
   ],
   "source": [
    "val_X.info()"
   ]
  },
  {
   "cell_type": "markdown",
   "metadata": {},
   "source": [
    "3.1 Random Forest"
   ]
  },
  {
   "cell_type": "code",
   "execution_count": 50,
   "metadata": {},
   "outputs": [
    {
     "name": "stdout",
     "output_type": "stream",
     "text": [
      "Fitting 5 folds for each of 5 candidates, totalling 25 fits\n",
      "[CV] n_estimators=30 .................................................\n"
     ]
    },
    {
     "name": "stderr",
     "output_type": "stream",
     "text": [
      "[Parallel(n_jobs=1)]: Using backend SequentialBackend with 1 concurrent workers.\n"
     ]
    },
    {
     "name": "stdout",
     "output_type": "stream",
     "text": [
      "[CV] ..................... n_estimators=30, score=0.814, total=   5.2s\n",
      "[CV] n_estimators=30 .................................................\n"
     ]
    },
    {
     "name": "stderr",
     "output_type": "stream",
     "text": [
      "[Parallel(n_jobs=1)]: Done   1 out of   1 | elapsed:    5.2s remaining:    0.0s\n"
     ]
    },
    {
     "name": "stdout",
     "output_type": "stream",
     "text": [
      "[CV] ..................... n_estimators=30, score=0.820, total=   4.9s\n",
      "[CV] n_estimators=30 .................................................\n"
     ]
    },
    {
     "name": "stderr",
     "output_type": "stream",
     "text": [
      "[Parallel(n_jobs=1)]: Done   2 out of   2 | elapsed:   10.2s remaining:    0.0s\n"
     ]
    },
    {
     "name": "stdout",
     "output_type": "stream",
     "text": [
      "[CV] ..................... n_estimators=30, score=0.822, total=   4.6s\n",
      "[CV] n_estimators=30 .................................................\n",
      "[CV] ..................... n_estimators=30, score=0.821, total=   4.5s\n",
      "[CV] n_estimators=30 .................................................\n",
      "[CV] ..................... n_estimators=30, score=0.828, total=   4.4s\n",
      "[CV] n_estimators=50 .................................................\n",
      "[CV] ..................... n_estimators=50, score=0.826, total=   7.4s\n",
      "[CV] n_estimators=50 .................................................\n",
      "[CV] ..................... n_estimators=50, score=0.832, total=   7.3s\n",
      "[CV] n_estimators=50 .................................................\n",
      "[CV] ..................... n_estimators=50, score=0.832, total=   7.8s\n",
      "[CV] n_estimators=50 .................................................\n",
      "[CV] ..................... n_estimators=50, score=0.836, total=   9.2s\n",
      "[CV] n_estimators=50 .................................................\n",
      "[CV] ..................... n_estimators=50, score=0.830, total=   8.5s\n",
      "[CV] n_estimators=80 .................................................\n",
      "[CV] ..................... n_estimators=80, score=0.833, total=  13.5s\n",
      "[CV] n_estimators=80 .................................................\n",
      "[CV] ..................... n_estimators=80, score=0.835, total=  13.4s\n",
      "[CV] n_estimators=80 .................................................\n",
      "[CV] ..................... n_estimators=80, score=0.837, total=  14.6s\n",
      "[CV] n_estimators=80 .................................................\n",
      "[CV] ..................... n_estimators=80, score=0.841, total=  14.1s\n",
      "[CV] n_estimators=80 .................................................\n",
      "[CV] ..................... n_estimators=80, score=0.840, total=  14.6s\n",
      "[CV] n_estimators=100 ................................................\n",
      "[CV] .................... n_estimators=100, score=0.834, total=  16.1s\n",
      "[CV] n_estimators=100 ................................................\n",
      "[CV] .................... n_estimators=100, score=0.838, total=  17.6s\n",
      "[CV] n_estimators=100 ................................................\n",
      "[CV] .................... n_estimators=100, score=0.843, total=  17.1s\n",
      "[CV] n_estimators=100 ................................................\n",
      "[CV] .................... n_estimators=100, score=0.840, total=  17.3s\n",
      "[CV] n_estimators=100 ................................................\n",
      "[CV] .................... n_estimators=100, score=0.841, total=  16.7s\n",
      "[CV] n_estimators=200 ................................................\n",
      "[CV] .................... n_estimators=200, score=0.843, total=  28.9s\n",
      "[CV] n_estimators=200 ................................................\n",
      "[CV] .................... n_estimators=200, score=0.842, total=  31.3s\n",
      "[CV] n_estimators=200 ................................................\n",
      "[CV] .................... n_estimators=200, score=0.843, total=  36.0s\n",
      "[CV] n_estimators=200 ................................................\n",
      "[CV] .................... n_estimators=200, score=0.846, total=  32.1s\n",
      "[CV] n_estimators=200 ................................................\n",
      "[CV] .................... n_estimators=200, score=0.850, total=  31.4s\n"
     ]
    },
    {
     "name": "stderr",
     "output_type": "stream",
     "text": [
      "[Parallel(n_jobs=1)]: Done  25 out of  25 | elapsed:  6.3min finished\n"
     ]
    },
    {
     "data": {
      "text/plain": [
       "200"
      ]
     },
     "execution_count": 50,
     "metadata": {},
     "output_type": "execute_result"
    }
   ],
   "source": [
    "from sklearn.ensemble import RandomForestClassifier\n",
    "\n",
    "grid = GridSearchCV(\n",
    "    estimator=RandomForestClassifier(),\n",
    "    param_grid={\n",
    "        'n_estimators':[30,50,80,100,200]\n",
    "    },\n",
    "    scoring='roc_auc',\n",
    "    verbose=3\n",
    ")\n",
    "\n",
    "grid.fit(train_X, train_y)\n",
    "# for result in grid.cv_results_:\n",
    "    # print(result, grid.cv_results_[result])\n",
    "grid.best_params_['n_estimators']"
   ]
  },
  {
   "cell_type": "code",
   "execution_count": 48,
   "metadata": {},
   "outputs": [],
   "source": [
    "def draw_roc(FPR, TPR, label=None):\n",
    "    plt.figure(figsize=(8,6))\n",
    "    plt.plot(FPR, TPR,'b', linewidth=2, label=label)\n",
    "    plt.plot([0,1],[0,1], \"r--\") \n",
    "    plt.xlim([0, 1])   \n",
    "    plt.ylim([0, 1])\n",
    "    plt.xlabel(\"False Positive Rate\")\n",
    "    plt.ylabel(\"True Positive rate\")\n",
    "\n",
    "from sklearn.metrics import roc_curve, roc_auc_score\n",
    "from sklearn.model_selection import GridSearchCV"
   ]
  },
  {
   "cell_type": "code",
   "execution_count": 52,
   "metadata": {},
   "outputs": [
    {
     "name": "stdout",
     "output_type": "stream",
     "text": [
      "0.8502471438296385\n"
     ]
    }
   ],
   "source": [
    "rfc = RandomForestClassifier(n_estimators=grid.best_params_['n_estimators'])\n",
    "rfc.fit(train_X, train_y)\n",
    "y_pred = rfc.predict_proba(val_X)[:,1]\n",
    "score = roc_auc_score(val_y, y_pred)\n",
    "print(score)"
   ]
  },
  {
   "cell_type": "code",
   "execution_count": 53,
   "metadata": {},
   "outputs": [
    {
     "data": {
      "image/png": "[encoded data removed]",
      "text/plain": [
       "<Figure size 576x432 with 1 Axes>"
      ]
     },
     "metadata": {},
     "output_type": "display_data"
    }
   ],
   "source": [
    "import matplotlib.pyplot as plt\n",
    "# 绘制ROC曲线\n",
    "FPR_rf, TPR_rf, THRESH_rf = roc_curve(val_y, y_pred)\n",
    "draw_roc(FPR_rf, TPR_rf)"
   ]
  },
  {
   "cell_type": "markdown",
   "metadata": {},
   "source": [
    "3.2 Naive Bayes"
   ]
  },
  {
   "cell_type": "code",
   "execution_count": 54,
   "metadata": {},
   "outputs": [
    {
     "name": "stdout",
     "output_type": "stream",
     "text": [
      "0.7938635689701633\n"
     ]
    }
   ],
   "source": [
    "from sklearn.naive_bayes import GaussianNB\n",
    "\n",
    "gaussian = GaussianNB()\n",
    "gaussian.fit(val_X, val_y)\n",
    "y_pred = gaussian.predict_proba(val_X)[:,1]\n",
    "score = roc_auc_score(val_y, y_pred)\n",
    "print(score)"
   ]
  },
  {
   "cell_type": "code",
   "execution_count": 55,
   "metadata": {},
   "outputs": [
    {
     "data": {
      "image/png": "[encoded data removed]",
      "text/plain": [
       "<Figure size 576x432 with 1 Axes>"
      ]
     },
     "metadata": {},
     "output_type": "display_data"
    }
   ],
   "source": [
    "# 绘制ROC曲线\n",
    "FPR_gaussian, TPR_gaussian, THRESH_gaussian = roc_curve(val_y, y_pred)\n",
    "draw_roc(FPR_gaussian, TPR_gaussian)\n"
   ]
  },
  {
   "cell_type": "markdown",
   "metadata": {},
   "source": [
    "3.3 SVM of Different Kernel"
   ]
  },
  {
   "cell_type": "code",
   "execution_count": 40,
   "metadata": {},
   "outputs": [],
   "source": [
    "import time "
   ]
  },
  {
   "cell_type": "code",
   "execution_count": 43,
   "metadata": {},
   "outputs": [
    {
     "name": "stdout",
     "output_type": "stream",
     "text": [
      "The score of rbf is : 0.931037\n",
      "training time: 115.54710602760315 s\n"
     ]
    }
   ],
   "source": [
    "from sklearn import svm\n",
    "from sklearn import datasets\n",
    "from sklearn.model_selection import train_test_split as ts\n",
    "\n",
    "\n",
    "\n",
    "#split the data to  7:3\n",
    "X_train,X_test,y_train,y_test = ts(train_X,train_y,test_size=0.1)\n",
    "\n",
    "# select different type of kernel function and compare the score\n",
    "\n",
    "# kernel = 'rbf'\n",
    "begin = time.time()\n",
    "clf_rbf = svm.SVC(kernel='rbf')\n",
    "clf_rbf.fit(X_train,y_train)\n",
    "score_rbf = clf_rbf.score(X_test,y_test)\n",
    "print(\"The score of rbf is : %f\"%score_rbf)\n",
    "end = time.time()\n",
    "print(\"training time:\",end-begin,\"s\")\n"
   ]
  },
  {
   "cell_type": "code",
   "execution_count": 45,
   "metadata": {},
   "outputs": [],
   "source": [
    "# kernel = 'poly'\n",
    "begin = time.time()\n",
    "clf_poly = svm.SVC(kernel='poly')\n",
    "clf_poly.fit(X_train,y_train)\n",
    "score_poly = clf_poly.score(X_test,y_test)\n",
    "print(\"The score of poly is : %f\"%score_poly)\n",
    "end = time.time()\n",
    "print(\"training time:\",end-begin,\"s\")"
   ]
  },
  {
   "cell_type": "code",
   "execution_count": 56,
   "metadata": {},
   "outputs": [
    {
     "name": "stdout",
     "output_type": "stream",
     "text": [
      "Fitting 5 folds for each of 60 candidates, totalling 300 fits\n"
     ]
    },
    {
     "name": "stderr",
     "output_type": "stream",
     "text": [
      "[Parallel(n_jobs=1)]: Using backend SequentialBackend with 1 concurrent workers.\n",
      "[Parallel(n_jobs=1)]: Done 300 out of 300 | elapsed:  1.2min finished\n"
     ]
    },
    {
     "data": {
      "text/plain": [
       "(52, 0.1)"
      ]
     },
     "execution_count": 56,
     "metadata": {},
     "output_type": "execute_result"
    }
   ],
   "source": [
    "#LGBM optimism\n",
    "grid = GridSearchCV(\n",
    "    estimator=LGBMClassifier(),\n",
    "    param_grid={\n",
    "        'n_estimators':range(45,55),\n",
    "        'learning_rate':[0.05,0.1,0.15,0.2,0.25,0.3]\n",
    "    },\n",
    "    scoring='roc_auc',\n",
    "    verbose=1\n",
    ")\n",
    "grid.fit(train_X, train_y)\n",
    "\n",
    "grid.best_params_['n_estimators'], grid.best_params_['learning_rate']"
   ]
  },
  {
   "cell_type": "code",
   "execution_count": 62,
   "metadata": {},
   "outputs": [],
   "source": [
    "import time "
   ]
  },
  {
   "cell_type": "markdown",
   "metadata": {},
   "source": [
    "3.4 RF的改进"
   ]
  },
  {
   "cell_type": "code",
   "execution_count": 63,
   "metadata": {},
   "outputs": [
    {
     "name": "stdout",
     "output_type": "stream",
     "text": [
      "training time: 9.850603818893433 s\n"
     ]
    }
   ],
   "source": [
    "# 用线性回归模型\n",
    "from sklearn.linear_model import LogisticRegression\n",
    "from sklearn.model_selection import train_test_split, cross_val_predict\n",
    "from sklearn.metrics import roc_curve, roc_auc_score\n",
    "from sklearn.preprocessing import StandardScaler\n",
    "\n",
    "# 划分训练集和测试集\n",
    "X_train, X_test, y_train, y_test = train_test_split(train_X,train_y,random_state=111)\n",
    "\n",
    "# 调用线性回归函数，C为正则化系数，l1表示L1正则化\n",
    "logit = LogisticRegression(random_state=111, solver='saga', penalty='l1', class_weight='balanced', C=1.0, max_iter=500)\n",
    "\n",
    "# 标准化拟合\n",
    "scaler = StandardScaler().fit(X_train)\n",
    "\n",
    "# 标准化X_train 和X_test\n",
    "X_train_scaled = scaler.transform(X_train)\n",
    "X_test_scaled = scaler.transform(X_test)\n",
    "\n",
    "# 线性回归拟合\n",
    "begin = time.time()\n",
    "logit.fit(X_train_scaled, y_train)\n",
    "\n",
    "# 输入训练集，返回每个样本对应到每种分类结果的概率\n",
    "logit_scores_proba = logit.predict_proba(X_train_scaled)\n",
    "\n",
    "# 返回分类1的概率\n",
    "logit_scores = logit_scores_proba[:,1]\n",
    "end = time.time()\n",
    "print('training time:',end-begin,'s')"
   ]
  },
  {
   "cell_type": "code",
   "execution_count": 61,
   "metadata": {},
   "outputs": [],
   "source": [
    "# 画图\n",
    "def plot_roc_curve(fpr, tpr, label=None):\n",
    "    plt.figure(figsize=(12,10))\n",
    "    plt.plot(fpr, tpr, linewidth=2, label=label)\n",
    "    plt.plot([0,1],[0,1], \"k--\") # 画直线做参考\n",
    "    plt.axis([0,1,0,1])\n",
    "    plt.xlabel(\"False Positive Rate\")\n",
    "    plt.ylabel(\"True Positive rate\")"
   ]
  },
  {
   "cell_type": "code",
   "execution_count": 65,
   "metadata": {},
   "outputs": [
    {
     "name": "stdout",
     "output_type": "stream",
     "text": [
      "AUC Score :  0.8052199131992341\n"
     ]
    },
    {
     "data": {
      "image/png": "[encoded data removed]",
      "text/plain": [
       "<Figure size 576x432 with 1 Axes>"
      ]
     },
     "metadata": {},
     "output_type": "display_data"
    }
   ],
   "source": [
    "# roc_curve根据分类结果和分类概率，返回false positive rage和true positive rate\n",
    "fpr_logit, tpr_logit, thresh_logit = roc_curve(y_train, logit_scores)\n",
    "\n",
    "# 画图\n",
    "draw_roc(fpr_logit,tpr_logit)\n",
    "print('AUC Score : ', (roc_auc_score(y_train,logit_scores)))"
   ]
  },
  {
   "cell_type": "code",
   "execution_count": 67,
   "metadata": {},
   "outputs": [
    {
     "name": "stdout",
     "output_type": "stream",
     "text": [
      "AUC Score : 0.8052347654330085\n"
     ]
    },
    {
     "data": {
      "image/png": "[encoded data removed]",
      "text/plain": [
       "<Figure size 576x432 with 1 Axes>"
      ]
     },
     "metadata": {},
     "output_type": "display_data"
    }
   ],
   "source": [
    "# 验证测试集，测试分类结果概率分布\n",
    "logit_scores_proba_val = logit.predict_proba(X_test_scaled)\n",
    "\n",
    "# 分类结果为1的概率\n",
    "logit_scores_val = logit_scores_proba_val[:,1]\n",
    "\n",
    "# roc_curve根据分类结果和分类概率，返回false positive rage和true positive rate\n",
    "fpr_logit_val, tpr_logit_val, thresh_logit_val = roc_curve(y_test, logit_scores_val)\n",
    "\n",
    "# 画图\n",
    "draw_roc(fpr_logit_val,tpr_logit_val)\n",
    "print('AUC Score :', (roc_auc_score(y_test,logit_scores_val)))"
   ]
  },
  {
   "cell_type": "code",
   "execution_count": 42,
   "metadata": {},
   "outputs": [
    {
     "name": "stdout",
     "output_type": "stream",
     "text": [
      "Original dataset shape : Counter({0: 125977, 1: 9023})\n"
     ]
    }
   ],
   "source": [
    "# 引入降采样模块\n",
    "from imblearn.under_sampling import RandomUnderSampler\n",
    "# Counter类的目的是用来跟踪值出现的次数\n",
    "from collections import Counterx\n",
    "print('Original dataset shape :', Counter(train_y))"
   ]
  },
  {
   "cell_type": "code",
   "execution_count": 43,
   "metadata": {},
   "outputs": [
    {
     "name": "stdout",
     "output_type": "stream",
     "text": [
      "Resampled dataset shape: Counter({0: 9023, 1: 9023})\n"
     ]
    }
   ],
   "source": [
    "# 调用模块\n",
    "rus = RandomUnderSampler(random_state=111)\n",
    "\n",
    "# 直接降采样后返回采样后的数值\n",
    "X_resampled, y_resampled = rus.fit_resample(train_X, train_y)\n",
    "print('Resampled dataset shape:', Counter(y_resampled))"
   ]
  },
  {
   "cell_type": "code",
   "execution_count": 44,
   "metadata": {},
   "outputs": [
    {
     "data": {
      "text/plain": [
       "((13534, 10), (13534,))"
      ]
     },
     "execution_count": 44,
     "metadata": {},
     "output_type": "execute_result"
    }
   ],
   "source": [
    "# 重新划分训练集和测试集\n",
    "from sklearn.model_selection import train_test_split\n",
    "X_train_rus, X_test_rus, y_train_rus, y_test_rus = train_test_split(X_resampled, y_resampled, random_state=111)\n",
    "X_train_rus.shape, y_train_rus.shape"
   ]
  },
  {
   "cell_type": "code",
   "execution_count": 50,
   "metadata": {},
   "outputs": [
    {
     "name": "stdout",
     "output_type": "stream",
     "text": [
      "AUC score:  0.5787087830478022\n"
     ]
    },
    {
     "name": "stderr",
     "output_type": "stream",
     "text": [
      "/Users/linkeke/opt/anaconda3/lib/python3.8/site-packages/sklearn/linear_model/_sag.py:328: ConvergenceWarning: The max_iter was reached which means the coef_ did not converge\n",
      "  warnings.warn(\"The max_iter was reached which means \"\n"
     ]
    },
    {
     "data": {
      "image/png": "[encoded data removed]",
      "text/plain": [
       "<Figure size 576x432 with 1 Axes>"
      ]
     },
     "metadata": {},
     "output_type": "display_data"
    }
   ],
   "source": [
    "# 对重采样以后的数据进行分类\n",
    "from sklearn.linear_model import LogisticRegression\n",
    "from sklearn.metrics import roc_curve, roc_auc_score\n",
    "import matplotlib.pyplot as plt\n",
    "logit_resampled = LogisticRegression(random_state=111, solver='saga', penalty='l1', class_weight='balanced', C=1.0, max_iter=500)\n",
    "\n",
    "logit_resampled.fit(X_resampled, y_resampled)\n",
    "logit_resampled_proba_res = logit_resampled.predict_proba(X_resampled)\n",
    "logit_resampled_scores = logit_resampled_proba_res[:, 1]\n",
    "fpr_logit_resampled, tpr_logit_resampled, thresh_logit_resampled = roc_curve(y_resampled, logit_resampled_scores)\n",
    "draw_roc(fpr_logit_resampled, tpr_logit_resampled)\n",
    "print('AUC score: ', roc_auc_score(y_resampled, logit_resampled_scores))"
   ]
  },
  {
   "cell_type": "code",
   "execution_count": 52,
   "metadata": {},
   "outputs": [
    {
     "name": "stdout",
     "output_type": "stream",
     "text": [
      "AUC score: 0.8671432102610513\n"
     ]
    },
    {
     "data": {
      "image/png": "[encoded data removed]",
      "text/plain": [
       "<Figure size 576x432 with 1 Axes>"
      ]
     },
     "metadata": {},
     "output_type": "display_data"
    }
   ],
   "source": [
    "# 采用随机森林法分类和梯度上升法\n",
    "from sklearn.ensemble import RandomForestClassifier, GradientBoostingClassifier\n",
    "forest = RandomForestClassifier(n_estimators=300, random_state=111, max_depth=5, class_weight='balanced')\n",
    "forest.fit(X_train_rus, y_train_rus)\n",
    "y_scores_prob = forest.predict_proba(X_train_rus)\n",
    "y_scores = y_scores_prob[:, 1]\n",
    "fpr, tpr, thresh = roc_curve(y_train_rus, y_scores)\n",
    "draw_roc(fpr, tpr)\n",
    "print('AUC score:', roc_auc_score(y_train_rus, y_scores))"
   ]
  },
  {
   "cell_type": "code",
   "execution_count": 54,
   "metadata": {},
   "outputs": [
    {
     "data": {
      "image/png": "[encoded data removed]",
      "text/plain": [
       "<Figure size 720x576 with 1 Axes>"
      ]
     },
     "metadata": {},
     "output_type": "display_data"
    }
   ],
   "source": [
    "# 看看随机森林法对各个特征的重视程度\n",
    "def plot_feature_importances(model):\n",
    "    plt.figure(figsize=(10,8))\n",
    "    n_features = train_X.shape[1]\n",
    "    plt.barh(range(n_features), model.feature_importances_, align='center')\n",
    "    plt.yticks(np.arange(n_features), train_X.columns)\n",
    "    plt.xlabel('Feature importance')\n",
    "    plt.ylabel('Feature')\n",
    "    plt.ylim(-1, n_features)\n",
    "\n",
    "plot_feature_importances(forest)"
   ]
  }
 ],
 "metadata": {
  "interpreter": {
   "hash": "ea23a4e211529f310423b8b8f6686fdd6f68d6b24bda7893cebd52920fa1260b"
  },
  "kernelspec": {
   "display_name": "Python 3.8.5 64-bit ('base': conda)",
   "name": "python3"
  },
  "language_info": {
   "name": "python",
   "version": ""
  },
  "orig_nbformat": 4
 },
 "nbformat": 4,
 "nbformat_minor": 2
}